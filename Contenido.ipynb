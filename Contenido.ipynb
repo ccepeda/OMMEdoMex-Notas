{
 "cells": [
  {
   "cell_type": "markdown",
   "metadata": {},
   "source": [
    "# NOTAS ENTRENAMIENTOS \n",
    "## OMM Estado de México\n",
    "#### César Cepeda 2018\n"
   ]
  },
  {
   "cell_type": "markdown",
   "metadata": {},
   "source": [
    "# <center>CONTENIDO</center>\n",
    "\n",
    "+ [COMBINATORIA](https://nbviewer.jupyter.org/github/ccepeda/OMMEdoMex-Notas/tree/master/Combinatoria/)\n",
    "    - [Conceptos básicos](https://nbviewer.jupyter.org/github/ccepeda/OMMEdoMex-Notas/blob/master/Combinatoria/1.%20Conceptos%20b%C3%A1sicos.ipynb)\n",
    "    - [Coeficientes binomiales y multinomiales](https://nbviewer.jupyter.org/github/ccepeda/OMMEdoMex-Notas/blob/master/Combinatoria/2.%20Coeficientes%20binomiales%20y%20multinomiales.ipynb)\n",
    "    - [Conteo de caminos, algunas identidades](https://nbviewer.jupyter.org/github/ccepeda/OMMEdoMex-Notas/blob/master/Combinatoria/3.%20Conteo%20de%20caminos%20e%20identidades.ipynb)\n"
   ]
  }
 ],
 "metadata": {
  "kernelspec": {
   "display_name": "Python 3",
   "language": "python",
   "name": "python3"
  },
  "language_info": {
   "codemirror_mode": {
    "name": "ipython",
    "version": 3
   },
   "file_extension": ".py",
   "mimetype": "text/x-python",
   "name": "python",
   "nbconvert_exporter": "python",
   "pygments_lexer": "ipython3",
   "version": "3.6.4"
  }
 },
 "nbformat": 4,
 "nbformat_minor": 2
}
