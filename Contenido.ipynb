{
 "cells": [
  {
   "cell_type": "markdown",
   "metadata": {},
   "source": [
    "# NOTAS ENTRENAMIENTOS \n",
    "## OMM Estado de México\n",
    "#### César Cepeda 2018\n"
   ]
  },
  {
   "cell_type": "markdown",
   "metadata": {},
   "source": [
    "# <center>CONTENIDO</center>\n",
    "\n",
    "+ [COMBINATORIA](https://nbviewer.jupyter.org/github/ccepeda/OMMEdoMex-Notas/tree/master/Combinatoria/)\n",
    "    - Conceptos básicos\n",
    "    - Coeficientes binomiales y multinomiales\n",
    "    - Conteo de caminos, algunas identidades\n"
   ]
  }
 ],
 "metadata": {
  "kernelspec": {
   "display_name": "Python 3",
   "language": "python",
   "name": "python3"
  },
  "language_info": {
   "codemirror_mode": {
    "name": "ipython",
    "version": 3
   },
   "file_extension": ".py",
   "mimetype": "text/x-python",
   "name": "python",
   "nbconvert_exporter": "python",
   "pygments_lexer": "ipython3",
   "version": "3.6.5"
  }
 },
 "nbformat": 4,
 "nbformat_minor": 2
}
