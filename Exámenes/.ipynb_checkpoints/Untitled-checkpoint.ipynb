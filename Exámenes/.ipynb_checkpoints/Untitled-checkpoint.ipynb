{
 "cells": [
  {
   "cell_type": "markdown",
   "metadata": {},
   "source": [
    "# <center>Examen de selección OMM Edo Mex 2018</center>\n",
    "## <center>6 - oct - 2018</center>\n",
    "\n",
    "#### 1. \n",
    "Se tiene una cuadrícula como la que se muestra a continuación: \n",
    "<center><img src=\"imagenes/181006_P1_I1.png\"/></center>\n",
    "\n",
    "para llenar los espacios en blanco de la cuadrícula debes usar, sin repetir, 9 de los siguientes números: 4, 5, 6, 7, 8, 12, 13, 16, 18 y 19.  Además, debes asegurarte de que las sumas de cada una de las 5 filas sean iguales entre si.  De la misma forma las sumas de las 3 columnas deben ser iguales entre sí.\n",
    "\n",
    "*¿De cuántas formas distintas es posible llenar la cuadrícula?*\n",
    "\n",
    "#### 2. \n",
    "Sean $M$ y $N$ los centros de dos circunferencias que insersectan y sea $A$ uno de los puntos de intersección de ambas circunferencias.  Las tangentes en $A$ a tales circunferencias las cortan de nuevo en $B$ y $C$ respectivamente.  $P$ es un punto tal que el cuadrilátero $AMPN$ es un paralelogramo.  Demuestra que $P$ es el circuncentro del triángulo $ABC$.\n",
    "\n",
    "#### 3. \n",
    "Alejandra y Bruno van a jugar un juego que tiene las siguientes reglas:\n",
    "\n",
    "+ El juego se juega con 8 montones de canicas.\n",
    "+ Cada uno de los primeros 7 montones inicia con 2023 canicas.\n",
    "+ El octavo montón inicia con 2017 canicas.\n",
    "+ Una *jugada* consiste en quitar canicas de **todos** los montones. A cada montón se le debe quitar una cantidad distinta de canicas. De cada montón se debe quitar una cantidad de canicas entre 1 y 8.\n",
    "+ Si en su turno, un jugador no puede realizar una jugada, este jugador pierde el juego.\n",
    "\n",
    "Alejandra va a iniciar el juego.\n",
    "\n",
    " a) *¿Quién de los dos puede asegurar el triunfo?*\n",
    " \n",
    " b) *Si en vez de iniciar con 2023 canicas los primeros 7 montones inician con 2024 canicas ¿Quién puede asegurar el triunfo?*\n",
    "\n",
    ".\n",
    "\n",
    "#### 4. \n",
    "Una secuencia $\\{a_1, a_2, ... , a_n\\}$ tal que la diferencia entre cualesquiera dos términos consecutivos es la misma se denomina una *progresión aritmética*. Es decir, $a_{i+1} - a_i = d$ para todo $i \\in \\{1, 2, ..., n - 1\\}$. A $d$ se le llama la diferencia de la progresión.\n",
    "\n",
    "Una secuencia $\\{a_1, a_2, ..., a_n\\}$ se llama *toluqueña* si para todo $i \\in \\{1, 2, ..., n\\}$ existe un entero positivo $m_i$ tal que $a_i = \\frac{1}{m_i}$.\n",
    "\n",
    "Una secuencia *toluqueña* que además es una progresión aritmética se llama *maxima* si $\\{a_1 - d, a_1, a_2, ..., a_n\\}$ y $\\{a_1, a_2, ..., a_n, a_n + d\\}$ **NO SON** progresiones aritméticas toluqueñas.\n",
    "\n",
    "*¿Existe una progresión aritmética toluqueña de 11 elementos?*\n",
    "\n",
    "#### 5. \n",
    "Sea $H$ el ortocentro de un triángulo $ABC$. La recta $\\ell$ es la paralela a $BC$ que pasa por el punto $H$. Las rectas $m$ y $n$ son las reflexiones de $\\ell$ sobre los lados $AB$ y $AC$ respectivamente y sea $P$ el punto donde $m$ y $n$ se intersectan. Si $HP$ y $BC$ se intersectan en $Q$, demuestra que la paralela a $AH$ que pasa por $Q$ se corta con $P$ en el circuncentro del triángulo $ABC$.\n",
    "\n",
    "**NOTAS:** \n",
    "\n",
    "La reflexión de un punto $X$ sobre una recta $\\ell$ es el punto $X'$ tal que $XX'$ es perpendicular a $\\ell$ y $XP = X'P$ donde $P$ es la insersección de $XX'$ y $\\ell$.\n",
    "\n",
    "La reflexión de una recta $m$ sobre una recta $\\ell$ es el conjunto formado por las reflexiones de los puntos de $m$ sobre $\\ell$.\n",
    "\n",
    "#### 6.\n",
    "En algún lugar del Estado de México hay un sistema de transporte que consta de autobuses que viajan de una ciudad a otra en **una sola dirección**. Un conjunto $C$ de ciudades se dice *conectado* si contiene al menos 3 ciudades diferentes y de cada ciudad $X$ en $C$ salen al menos 2 autobuses.  Cada uno de estos autobuses debe ir directamente a otra ciudad en $C$ que no es $X$. (El que exista un autobús que va de $X$ a $Y$ no implica que exista uno que va de $Y$ a $X$). Demuestra que si existe un conjunto *conectado* de ciudades $C$, entonces existe un subconjunto *conectado* $B$ de $C$ tal que para cualesquiera dos ciudades en $B$ se puede llegar de una a otra tomando autobuses que sólo pasan por ciudades de $B$.\n",
    "\n"
   ]
  }
 ],
 "metadata": {
  "kernelspec": {
   "display_name": "Python 3",
   "language": "python",
   "name": "python3"
  },
  "language_info": {
   "codemirror_mode": {
    "name": "ipython",
    "version": 3
   },
   "file_extension": ".py",
   "mimetype": "text/x-python",
   "name": "python",
   "nbconvert_exporter": "python",
   "pygments_lexer": "ipython3",
   "version": "3.6.4"
  }
 },
 "nbformat": 4,
 "nbformat_minor": 2
}
