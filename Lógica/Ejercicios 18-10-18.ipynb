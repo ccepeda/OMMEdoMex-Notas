{
 "cells": [
  {
   "cell_type": "markdown",
   "metadata": {},
   "source": [
    "# Arte de las matemáticas (Carol Baur 2018-2019)\n",
    "\n",
    "### Ejercicios y Tarea 18/10/2018\n",
    "\n",
    "### NOTA: Recuerden que en los ejercicios de esta sección lo importante es resolver los problemas de forma mental, utilicen los trucos que puedan, acomoden los números como mejor les convenga, usen la propiedad distributiva, extraigan factores comunes, etc.  Sean creativos.\n",
    "\n",
    "### Dado que el objetivo es resolver los problemas de forma mental, como respuesta de esta tarea deberás escribir el resultado y (*después de haberlo calculado*) la forma en que hiciste el cálculo.\n",
    "\n",
    "\n",
    "### En los primeros 3 problemas, un método para resolverlos es hacer una suposición sobre el valor de alguna de las incógnitas.  Posteriormente revisar si se ajusta al problema y si no, hacer la adecuación correspondiente de forma mental.\n",
    "\n",
    "#### 1. En una granja tienen borregos y gallinas. Sabes que hay 12 animales en total y que entre todos los animales juntan 40 patas. ¿Cuántos animales hay de cada tipo?\n",
    "\n",
    "#### 2. El 2 de marzo de 1962 Wilt Chamberlain (https://es.wikipedia.org/wiki/Wilt_Chamberlain), el jugador más dominante de básquetbol de todos los tiempos, impuso el record, aun vigente, de puntos en un único partido contra los Knicks.  Chamberlain anotó 100 puntos en un partido en que los tiros de 3 puntos no existían aún en las reglas, por lo que todos puntos fueron de tiros de *campo* (2 puntos) o de tiros *libres* (1 punto).  Si en total encestó 64 tiros en esa mítica noche.  ¿Cuántos tiros de campo encestó?\n",
    "\n",
    "#### 3. Después de que vieron la *bolsa de monedas de Imanol*, unos amigos le pidieron que fuera padrino de un bautizo.  Imanol lleva para el *bolo* \\$300 pesos en monedas de \\$5 y \\$10 pesos.  Si Imanol te dice que hay 4 vecés más monedas de \\$5 que de \\$10. ¿Cuántas monedas hay de cada tipo?\n",
    "\n",
    "\n",
    "### Los siguientes problemas son todos de aritmética.  Recuerda que la suma y la multiplicación son conmutativas y además recuerda la propiedad distributiva.  Se creativo.\n",
    "\n",
    "#### 4. $762 + 349 = ?$\n",
    "\n",
    "#### 5. $9 + 51 + 11 + 49 = ?$\n",
    "\n",
    "#### 6. $88 + 112 = ?$\n",
    "\n",
    "#### 7. $(31 + 30 + 29) + (69 + 70 + 71) = ?$\n",
    "\n",
    "#### 8. $(25 + 50 + 100)(4) = ?$\n",
    "\n",
    "#### 9. $\\big( \\frac{1}{2} \\big) \\big(\\frac{2}{3}\\big)\\big(\\frac{3}{4}\\big)(100) = ?$\n",
    "\n",
    "#### 10. $\\big(\\frac{4}{7}\\big)\\big(\\frac{2}{4}\\big)\\big(\\frac{3}{2}\\big)\\big(\\frac{7}{3}\\big)(100) = ?$\n",
    "\n",
    "#### 11. $\\big( \\frac{3x}{5y} \\big) \\big( \\frac{2y}{6z} \\big) \\big( \\frac{5}{2x} \\big) = ?$\n",
    "\n",
    "#### 12. $\\frac{33 + 66 + 99}{1 + 2 + 3} = ?$\n",
    "\n",
    "#### 13. $(22 + 4 + 7) + (7 + 4 + 1) + (1 + 2 + 2) = ?$\n",
    "\n",
    "#### 14. $(300 + 150 + 75) + (140 + 70 + 35) = ?$\n",
    "\n",
    "#### 15. $(2 + 4 + 6 + 8)(3 + 6 + 9 + 12) = x(1 + 2 + 3 + 4)$, ¿cuál es el valor de $x$?\n",
    "\n",
    "#### 16. $249 + 996 + 493 + 507 + 1004 + 251 = ?$\n",
    "\n",
    "#### 17. $\\frac{7 + 14 + 21 + 28}{35} = ?$\n",
    "\n",
    "#### 18. $\\frac{92 + 13 + 108 + 27}{12(2 + 4 + 6 + 8)} = ?$\n",
    "\n",
    "#### 19. $(1 - x)(1 + x + x^2 + x^3 + x^4 + x^5 + x^6 + x^7) = ?$\n",
    "\n",
    "#### 20. $\\big( \\frac{3}{4} \\big) \\big( \\frac{4}{5} \\big) \\big( \\frac{5}{6} \\big) (24 + 100 + 200) = ?$"
   ]
  }
 ],
 "metadata": {
  "kernelspec": {
   "display_name": "Python 3",
   "language": "python",
   "name": "python3"
  },
  "language_info": {
   "codemirror_mode": {
    "name": "ipython",
    "version": 3
   },
   "file_extension": ".py",
   "mimetype": "text/x-python",
   "name": "python",
   "nbconvert_exporter": "python",
   "pygments_lexer": "ipython3",
   "version": "3.6.4"
  }
 },
 "nbformat": 4,
 "nbformat_minor": 2
}
