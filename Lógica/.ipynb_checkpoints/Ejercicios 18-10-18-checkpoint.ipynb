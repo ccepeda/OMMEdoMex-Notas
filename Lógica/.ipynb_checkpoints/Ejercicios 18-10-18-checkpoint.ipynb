{
 "cells": [
  {
   "cell_type": "markdown",
   "metadata": {},
   "source": [
    "# Arte de las matemáticas (Carol Baur 2018-2019)\n",
    "\n",
    "### Ejercicios y Tarea 18/10/2018\n",
    "\n",
    "### NOTA: Recuerden que en los ejercicios de esta sección lo importante es resolver los problemas de forma mental, utilicen los trucos que puedan, acomoden los números como mejor les convenga, usen la propiedad distributiva, extraigan factores comunes, etc.  Sean creativos.\n",
    "\n",
    "### Dado que el objetivo es resolver los problemas de forma mental, como respuesta de esta tarea deberás escribir el resultado y (*después de haberlo calculado*) la forma en que hiciste el cálculo.\n",
    "\n",
    "#### 1. En una granja tienen borregos y gallinas. Sabes que hay 12 animales en total y que entre todos los animales juntan 40 patas. ¿Cuántos animales hay de cada tipo?\n",
    "\n",
    "#### 2. El 2 de marzo de 1962 Wilt Chamberlain (https://es.wikipedia.org/wiki/Wilt_Chamberlain), el jugador más dominante de básquetbol de todos los tiempos, impuso el record, aun vigente, de puntos en un único partido contra los Knicks.  Chamberlain anotó 100 puntos en un partido en que los tiros de 3 puntos no existían aún en las reglas, por lo que todos puntos fueron de tiros de *campo* (2 puntos) o de tiros *libres* (1 punto).  Si en total encestó 64 tiros en esa mítica noche.  ¿Cuántos tiros de campo encestó?\n",
    "\n",
    "#### 3. Después de que vieron la *bolsa de monedas de Imanol*, unos amigos le pidieron que fuera padrino de un bautizo.  Imanol lleva para el *bolo* \\$300 pesos en monedas de \\$5 y \\$10 pesos.  Si Imanol te dice que hay 4 vecés más monedas de \\$5 que de \\$10. ¿Cuántas monedas hay de cada tipo?\n",
    "\n",
    "#### 4."
   ]
  }
 ],
 "metadata": {
  "kernelspec": {
   "display_name": "Python 3",
   "language": "python",
   "name": "python3"
  },
  "language_info": {
   "codemirror_mode": {
    "name": "ipython",
    "version": 3
   },
   "file_extension": ".py",
   "mimetype": "text/x-python",
   "name": "python",
   "nbconvert_exporter": "python",
   "pygments_lexer": "ipython3",
   "version": "3.6.4"
  }
 },
 "nbformat": 4,
 "nbformat_minor": 2
}
