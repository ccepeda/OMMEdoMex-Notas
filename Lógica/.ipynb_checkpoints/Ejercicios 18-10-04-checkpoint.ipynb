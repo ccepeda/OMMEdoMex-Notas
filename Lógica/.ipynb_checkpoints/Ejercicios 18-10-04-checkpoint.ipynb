{
 "cells": [
  {
   "cell_type": "markdown",
   "metadata": {},
   "source": [
    "# Arte de las matemáticas (Carol Baur 2018-2019)\n",
    "\n",
    "### Ejercicios y Tarea 04/10/2018\n",
    "\n",
    "#### 1. Tres veces un número es siete veces el doble de ese número.  ¿Cuál es el número?\n",
    "\n",
    "#### 2. Mi hermano es 4 veces mayor que yo.  En seis años tendrá el doble de la edad que yo tendré. ¿Qué edad tiene mi hermano ahora?\n",
    " \n",
    "#### 3. Según el mapa del tesoro del Capitan Garfio: *Llega a la palmera en la mitad de la isla, y orientate al oeste. Piensa en el número que es diecisiete unidades mayor que el cociente de dividir seis veces el número de pasos al tesoro entre dos.  Este número es igual al resultado de sumarle doce más que nueve menos quince al número de pasos que hay que dar para llegar al tesoro. *\n",
    "\n",
    "*¿Cuántos pasos hay que dar para llegar al tesoro?*\n",
    "\n",
    "#### 4. Imanol tiene una bolsa llena de monedas de \\$10 y \\$5 pesos. Si hay tres veces más monedas de \\$10 que de \\$5 y en total tiene \\$3,605 pesos. ¿Cuántas monedas de \\$5 pesos tiene?\n",
    "\n",
    "#### 5. Un maestro le pidió a Lucy que restara tres a un cierto número y luego dividera el resultado por nueve. En vez de eso, ella restó nueve y luego dividió el resultado por tres, obteniendo la respuesta de 43.  ¿Cuál hubiera sido la respuesta si hubiera seguido las instrucciones originales?\n",
    "\n",
    "#### 6. El 31 de diciembre de 1994 mi papá tenía la mitad de la edad de su abuela.  La suma de los años en los que ambos nacieron es 3838.  ¿Cuántos años tenía mi papá el 31 de diciembre de 1999?\n",
    "\n",
    "#### 7. Hace seis años tenía la mitad de la edad que tendré en cuatro años. ¿Qué edad tendré dentro de 5 años?\n",
    "\n",
    "#### 8. Los jugadores de una liga de fútbol compraron calcetas y camisetas. Las calcetas costaron \\$80 pesos cada par y cada camiseta costó \\$100 pesos más que un par de calcetas.  Cada jugador requiere dos pares de calcetas y 2 camisetas.  Si el total de la cuenta fue de \\$47,320 pesos. ¿Cuántos jugadores hay en la liga?\n",
    "\n",
    "#### 9. Tres mas el recíproco de un número es igual a siete dividido por ese número. ¿Cuál es el número?\n",
    "\n",
    "#### 10. Cinco números enteros consecutivos son sumados.  La suma resultante es seis unidades más que el mayor de los cinco enteros. ¿Cuál es el menor de los cinco enteros?\n",
    "\n",
    "#### 11. Después de un viaje te quedaste en la bolsa la misma cantidad de monedas de 25, 10 y 5 centavos de dólar. Si el total de dinero que traes en monedas son dólares enteros y además es la menor cantidad de dólares enteros que podrías traer bajo las condiciones descritas. ¿Cuántos dólares traes en cambio?\n",
    "\n"
   ]
  }
 ],
 "metadata": {
  "kernelspec": {
   "display_name": "Python 3",
   "language": "python",
   "name": "python3"
  },
  "language_info": {
   "codemirror_mode": {
    "name": "ipython",
    "version": 3
   },
   "file_extension": ".py",
   "mimetype": "text/x-python",
   "name": "python",
   "nbconvert_exporter": "python",
   "pygments_lexer": "ipython3",
   "version": "3.6.4"
  }
 },
 "nbformat": 4,
 "nbformat_minor": 2
}
