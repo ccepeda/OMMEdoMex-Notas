{
 "cells": [
  {
   "cell_type": "markdown",
   "metadata": {},
   "source": [
    "### Ejercicios combinatoria 17/08/18\n",
    "\n",
    "1. Encuentra el número de formas de acomodar $n$ torres en un tablero de ajedrez de $n \\times n$ sin que se ataquen.\n",
    "2. ¿Cuántas maneras distintas hay de acomodar $k$ torres en un tablero de ajedrez de $n \\times n$ sin que se ataquen?\n",
    "3. ¿Cuántas maneras distintas hay de acomodar *alguna cantidad* de torres en un tablero de ajedrez de $n \\times n$ sin que se ataquen?\n",
    "4. En una carrera hay 15 participantes, entre ellos Ana y Beto. ¿Cuántos posibles resultados hay para la carrera si sabemos que Ana terminó delante de Beto?\n",
    "5. En el concurso *melate* debes elegir 6 números de 56 posibles.  ¿Cuántos boletos debes comprar para asegurar que obtendrás el primer premio?\n",
    "6. ¿Cuántos números positivos de 4 cifras hay que contengan el dígito 3 y sean divisibles por 5?\n",
    "7. ¿Cuántos números positivos de 4 cifras hay en los que al menos un dígito esté repetido?\n",
    "8. La caja fuerte de tu cuarto de hotel se abre con un código de 4 dígitos. Olvidaste el código, pero recuerdas que usaba los dígitos 3, 5 y 9 solamente. En el peor de los casos ¿cuántos códigos tienes que probar para abrirla?\n",
    "9. ¿De cuántas formas se pueden escribir los dígitos 1, 1, 2, 2, 3, 4, 5 de modo que los dígitos 3 y 4 no estén en posiciones consecutivas.\n",
    "10. Debes tomar una vitamina al menos 4 días y máximo 5 días a la semana.  Además uno de los días que la tomes debe ser fin de semana (sábado o domingo). ¿Cuántas maneras distintas hay de que cumplas el requerimiento?\n",
    "11. Un maestro debe elegir un equipo de 4 alumnos de un grupo de 20 personas la mitad de las cuales son mujeres. ¿De cuántas formas se puede eleguir el equipo si debe contener al menos una mujer y al menos un hombre?\n",
    "12. En una cuadrícula en dónde sólo puedes avanzar hacia el norte y hacia el este. ¿De cuántas formas puedes ir de $O = (0, 0)$ a $A = (6, 6)$ si es obligatorio pasar por $B = (4, 4)$ pero no debes pasar por $C = (3, 1)$\n",
    "13. Demuestra que para todo $0 < k \\leq n$ donde $k, n$ son enteros se cumple que\n",
    "<center>$\\binom{n}{k} = \\binom{k-1}{k-1} + \\binom{k}{k-1} + ... + \\binom{n-1}{k-1}$</center>\n",
    "14. Sea $n = 4k + 2$ para algún $k$ entero positivo. Demuestra que exactamente $1/4$ de todos los subconjuntos de $\\{1, 2, ..., n\\}$ tiene un tamaño que es divisible por 4.\n",
    "16. En un torneo deportivo con 7 equipos el equipo $A$ va en primer lugar, el equipo $B$ está en la quinta posición y $C$ va adelante de $D$ que a su vez va delante de $E$. ¿Cuántas resultados distintos puede haber?\n",
    "17. ¿De cuántas formas se pueden elegir dos subconjuntos $S$ y $T$ del conjunto $\\{1, 2, ..., n\\}$ si no hay ninguna restricción?\n",
    "18. ¿De cuántas formas se pueden elegir los conjuntos $S$ y $T$ del ejemplo anterior si $S$ contiene a $T$?\n",
    "19. ¿De cuántas formas se pueden elegir $S$ y $T$ si deben ser disjuntos?\n",
    "20. Para un torneo de tenis debes formar $n$ parejas a partir de $2n$ jugadores para que juegen $n$ partidos. ¿De cuántas formas distintas se puede hacer?\n",
    "21. 16 jugadores participaron en un torneo en donde cada jugador jugó con todos los demás. Todos los jugadores ganaron un número distinto de juegos. ¿Cuántos juegos ganó el jugador que terminó en la posición 6 del torneo?\n",
    "22. Demuestra que para conjuntos finitos $A_1, A_2, ..., A_k$ que no sean necesariamente disjuntos se cumple que $|A_1 \\cup A_2 \\cup ... \\cup A_k| \\leq |A_1| + |A_2| + ... + |A_k|$\n",
    "23. Un programa de computadora generó 175 enteros positivos de forma aleatoria.  Ningún entero tiene un divisor primo mayor a 10. Demuestra que es posible encontrar tres números entre los generados tales que su multiplicación sea un cubo perfecto.\n",
    "24. Todos los puntos en coordenadas enteras del plano se pintaron de un color, rojo, verde o azul.  Demuestra que hay al menos 1 rectángulo cuyas 4 esquinas están pintadas del mismo color.\n",
    "25. Encuentra una fórmula cerrada para la expresión $\\sum_{k=0}^{n} \\binom{n}{k} 4^k (-1)^{n-k}$\n",
    "26. Encuentra una fórmula cerrada para la expresión $\\sum_{k=1}^{n} \\binom{n}{k} \\frac{k}{n^k}$\n",
    "27. Prueba la identidad $n = \\sum_{k=1}^{n} \\binom{n+1}{k+1} \\frac{k}{n^k}$\n",
    ".\n"
   ]
  }
 ],
 "metadata": {
  "kernelspec": {
   "display_name": "Python 3",
   "language": "python",
   "name": "python3"
  },
  "language_info": {
   "codemirror_mode": {
    "name": "ipython",
    "version": 3
   },
   "file_extension": ".py",
   "mimetype": "text/x-python",
   "name": "python",
   "nbconvert_exporter": "python",
   "pygments_lexer": "ipython3",
   "version": "3.6.4"
  }
 },
 "nbformat": 4,
 "nbformat_minor": 2
}
