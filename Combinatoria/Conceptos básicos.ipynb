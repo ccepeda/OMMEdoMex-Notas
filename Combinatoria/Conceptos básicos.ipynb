{
 "cells": [
  {
   "cell_type": "markdown",
   "metadata": {},
   "source": [
    "\n",
    "# Notas de combinatoria - Conceptos básicos\n",
    "### OMM Estado de México\n",
    "#### César Cepeda (2018)\n"
   ]
  },
  {
   "cell_type": "markdown",
   "metadata": {},
   "source": [
    "La combinatoria es la rama de las matemáticas que se encarga de estudiar cómo contar.  A lo largo de estas notas, plantearemos los problemas de combinatoria como la necesidad de contar la cantidad de elementos en un conjunto finito.  A la cantidad de elementos en el conjunto $A$ la llamaremos cardinalidad de $A$ y la denotaremos con la notación $|A|$.\n",
    "\n",
    "Por ejemplo, si $A = \\{2, 4, 5, 7, 8\\}$,  entonces $|A| = 5$   ya que el conjunto $A$ tiene 5 elementos.\n",
    "\n",
    "<br>\n",
    "## Métodos básicos de conteo\n",
    "\n",
    "### SUMA\n",
    "\n",
    "Cuando el conjunto del que deseamos saber la cardinalidad se obtiene de la unión de dos o más conjuntos es posible calcular la cardinalidad sumando las cardinalidades de los conjuntos a unir siempre y cuando dichos conjuntos sean disjuntos, es decir, no tengan elementos comunes.  Otra forma de decirlo es que la intersección de los conjuntos cuya cardinalidad quiere sumarse es vacía.\n",
    "\n",
    "+ ***Principio de la adición***: *Sean $A$ y $B$ dos conjuntos finitos disjuntos, entonces $|A \\cup B| = |A| + |B|$.*\n",
    " \n",
    "Esto por supuesto no se limita a dos conjuntos, por lo que el principio anterior se puede ampliar a múltiples conjuntos\n",
    " \n",
    "+ ***Principio generalizado de la adición***: *Sean $A_1, A_2, A_3, ... , A_n$ conjuntos finitos que son mutuamente disjuntos (es decir, para cualquier par de conjuntos $A_i, A_j$  su intersección es vacía), entonces  $|A_1 \\cup A_2 \\cup A_3 \\cup ... \\cup A_n| = |A_1| + |A_2| + |A_3| + ... + |A_n|$.*\n",
    " \n",
    "#### Ejemplo de aplicación: \n",
    "\n",
    "**En un cuarto hay 6 mujeres y 8 hombres. ¿Cuántas personas hay en el salón?**\n",
    "\n",
    "El problema nos da como datos la cardinalidad de dos conjuntos, $|M| = 6$ (cantidad de mujeres en el cuarto) y $|H| = 8$ (cantidad de hombres en el cuarto).  Sabemos que ambos conjuntos son disjuntos, ya que una persona es mujer u hombre. Más aún, sabemos que todas las personas están incluidas en esos dos conjuntos ya que una persona sólo puede ser mujer u hombre.\n",
    "\n",
    "Sea $P$ el conjunto que representa a las personas en el cuarto, entonces $P = M \\cup H$, la unión de los conjuntos de mujeres y hombres.  Cómo ambos conjuntos son disjuntos, podemos usar el principio de adición para resolver el problema, de modo que\n",
    "\n",
    "  ->$|P| = |M \\cup H| = |M| + |H| = 6 + 8 = 14$<-\n",
    "  \n",
    "El resultado es: 14 personas.\n",
    "\n",
    "\n"
   ]
  },
  {
   "cell_type": "code",
   "execution_count": null,
   "metadata": {},
   "outputs": [],
   "source": [
    "# Notas de combinatoria - Conceptos básicos\n",
    "## César Cepeda (2018)"
   ]
  }
 ],
 "metadata": {
  "kernelspec": {
   "display_name": "Python 3",
   "language": "python",
   "name": "python3"
  },
  "language_info": {
   "codemirror_mode": {
    "name": "ipython",
    "version": 3
   },
   "file_extension": ".py",
   "mimetype": "text/x-python",
   "name": "python",
   "nbconvert_exporter": "python",
   "pygments_lexer": "ipython3",
   "version": "3.6.4"
  }
 },
 "nbformat": 4,
 "nbformat_minor": 2
}
