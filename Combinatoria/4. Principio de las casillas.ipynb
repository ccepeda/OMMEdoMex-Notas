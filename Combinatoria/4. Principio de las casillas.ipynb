{
 "cells": [
  {
   "cell_type": "markdown",
   "metadata": {},
   "source": [
    "Principio de las casillas\n",
    "\n",
    "Demuestra que cualesquiera 6 enteros que tomes habrá 2 cuya diferencia es un múltiplo de 5\n",
    "\n",
    "\n",
    "Demuestra que si se tiene un cuadrado de lado 1 y se dibujan 5 puntos adentro entonces hay al menos 2 de esos puntos que están a una distancia menor a raíz(2)/2\n",
    "\n",
    "\n",
    "Hay 25 personas en una reunión, a lo largo de la reunión diferentes personas se dan la mano. Demuestra que al final de la reunión hay al menos dos personas que le han dado la mano al mismo número de personas en la fiesta.  No pueden existir de forma simultanea alguien que no le dio la mano a nadie y alguien que le dio la mano a todos los demás.\n",
    "\n",
    "cuantas gentes en el DF nacieron en la misma hora del mismo día?\n",
    "\n",
    "\n",
    "la secuencia de 2^i -1 contiene al menos un múltiplo de cualquier impar\n",
    "\n",
    "\n",
    "selecciona de manera arbitraria n+1 números del set [2n], demuestra que hay un par de ellos que suman 2n+1 y un par de ellos cuya diferencia es n\n",
    "\n",
    "\n",
    "demuestra que si tomas los multiplos de un irracional p, es decir 1p, 2p, 3p, etc.  Siempre habrá uno cuya cercanía a un entero sea menor que un valor x.\n",
    "\n",
    "Dado un conjunto arbitrario de 10 números de dos cifras, demuestra que dentro de ese conjunto hay dos subconjuntos disjuntos que tienen la misma suma.\n",
    "\n",
    "\n",
    "Un jugador de ajedrez juega al menos una partida todos los días durante 8 semanas, pero nunca juega más de 11 juegos en cualquier periodo de 7 días.  Demuestra que hay un periodo de días consecutivos en el que juega exactamente 23 partidas.\n",
    "\n"
   ]
  }
 ],
 "metadata": {
  "kernelspec": {
   "display_name": "Python 3",
   "language": "python",
   "name": "python3"
  },
  "language_info": {
   "codemirror_mode": {
    "name": "ipython",
    "version": 3
   },
   "file_extension": ".py",
   "mimetype": "text/x-python",
   "name": "python",
   "nbconvert_exporter": "python",
   "pygments_lexer": "ipython3",
   "version": "3.6.4"
  }
 },
 "nbformat": 4,
 "nbformat_minor": 2
}
