{
 "cells": [
  {
   "cell_type": "markdown",
   "metadata": {},
   "source": [
    "# Notas de combinatoria - Conteo de caminos e identidades\n",
    "### OMM Estado de México\n",
    "#### César Cepeda (2018)"
   ]
  },
  {
   "cell_type": "markdown",
   "metadata": {},
   "source": [
    "### CONTEO DE CAMINOS\n",
    "\n",
    "Imagina que estás en una ciudad cuyo mapa se puede mostrar como una cuadrícula en dónde las calles son representadas por las líneas de la cuadrícula. En un cierto momento te encuentras en el punto $A$ y deseas llegar, moviéndote únicamente por las calles, al punto $B$ (ver figura 3.1). Sin embargo, las calles tienen sólo un sentido de modo tal que la única forma en la que te puedes mover por ellas es avanzando hacia arriba o hacia la derecha.\n",
    "\n",
    "<img src=\"imagenes/fig3.1.png\"/>\n",
    "<center>figura 3.1</center>\n",
    "\n",
    "Se le llama un *camino* de $A$ a $B$ a una secuencia de movimientos válidos (moverse por una calle hacia arriba o hacia la derecha) que te lleve desde el punto $A$ hasta el punto $B$. Nota que un camino está construido por una secuencia de movimientos que pueden ser verticales (si el movimiento fue hacia arriba) u horizontales (si el movimiento fue a la derecha). Si denotamos por **V** un movimiento vertical y por **H** un moviento horizontal, podemos representar un camino como una secuencia de letras **V**, **H**. Dos caminos se consideran distintos si las secuencias de letras **V**, **H** que los representan son distintas. En la figura 3.2 se muestran un par de caminos distintos y las secuencias que los representan.\n",
    "\n",
    "<img src=\"imagenes/fig3.2.png\"/>\n",
    "<center>figura 3.2</center>\n",
    "\n",
    "Observa que ambos caminos en la figura 3.2 se representan por una secuencia de 13 letras. ¿Tendrán todos los caminos la misma longitud?\n",
    "\n",
    "En un camino, en cada intersección debes tomar la decisión de avanzar hacia arriba o hacia la derecha. Independientemente del orden en el que tomes las decisiones, la cantidad de veces que debes avanzar hacia arriba está determinada por la distancia en movimientos verticales que separa el punto $A$ del $B$. De igual manera, la cantidad de veces que debes avanzar hacia la derecha está determinada por la distancia en movimientos horizontales que separa el punto $A$ del $B$. De lo anterior sabemos que la cantidad total de movimientos, está determinada por la suma de las distancias vertical y horizontal que separan $A$ de $B$. Más aún, sabemos que la cantidad de movimientos verticales, al igual que horizontales es fija para dos puntos $A$ y $B$ dados en la cuadrícula.\n",
    "\n",
    "+ Sea $C$ el conjunto de todos los caminos que tienen en total $n$ movimientos, de los cuales $k$ son horizontales representados como una secuencia de $k$ letras **H** y $n-k$ letras **V**. $|C| = \\binom{n}{k,\\ n-k} = \\frac{n!}{k!\\ (n-k)!}$\n",
    "\n",
    "*Demostración*: La representación de un camino de $C$ es una lista de $n$ elementos obtenidos de dos tipos distintos $a_1 = $ **H** y $a_2 =$ **V**. Además sabemos que tenemos $k$ elementos del tipo $a_1$ y $n-k$ elementos del tipo $a_2$. Por lo tanto podemos usar un coeficiente binomial para saber la cardinalidad de $C$.\n",
    "\n",
    "\n",
    "### COMPOSICIÓN DÉBIL DE UN NÚMERO"
   ]
  }
 ],
 "metadata": {
  "kernelspec": {
   "display_name": "Python 3",
   "language": "python",
   "name": "python3"
  },
  "language_info": {
   "codemirror_mode": {
    "name": "ipython",
    "version": 3
   },
   "file_extension": ".py",
   "mimetype": "text/x-python",
   "name": "python",
   "nbconvert_exporter": "python",
   "pygments_lexer": "ipython3",
   "version": "3.6.4"
  }
 },
 "nbformat": 4,
 "nbformat_minor": 2
}
