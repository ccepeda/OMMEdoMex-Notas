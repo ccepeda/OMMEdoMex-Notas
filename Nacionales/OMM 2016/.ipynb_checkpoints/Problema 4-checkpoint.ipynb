{
 "cells": [
  {
   "cell_type": "markdown",
   "metadata": {},
   "source": [
    "### Decimos que un número entero no-negativo $n$ *contiene* a otro número entero no-negativo $m$, si los dígitos de su expansión (o desarrollo) decimal aparecen en forma consecutiva en la expansión (o desarrollo) decimal de $n$. Por ejemplo, $2016$ contiene a $2, 0, 1, 6, 20, 16, 201$ y $2016$. Determina el mayor número entero $n$ que no contiene a ningún múltiplo de $7$.\n",
    "\n",
    "#### SOLUCIÓN\n",
    "\n",
    "Sabemos que:\n",
    "+ Si $a|bc$ y $mcd(a, c) = 1$ entonces $a|b$.\n",
    "+ $mcd(7, 10) = 1 \\implies mcd(7, 10^n) = 1$ para toda $n \\geq 0$.\n",
    "\n",
    "Supongamos que $n$ tiene $s$ cifras significativas, sea $m_i$ la congruencia de $n (mod \\text{ } 10^i)$ es decir, el número formado por las $i$ cifras menos significativas de $n$ para $1 \\leq i \\leq s$.\n",
    "\n",
    "Observemos que si existen $i$ y $j$ tales que $i < j$ y $m_i \\equiv m_j (mod \\text{ } 7)$ implica que $m_j - m_i \\equiv 0 (mod \\text{ } 7)$ pero $m_j - m_i$ es igual al número formado por las cifras significativas de $n$ de la posición $j$ a la $i+1$ multiplicado por $10^i$, es decir, $m_j - m_i$ es igual a un número *contenido* en $n$ (llamémosle $x$) multiplicado por una potencia de 10. \n",
    "\n",
    "Tenemos entonces que $m_j - m_i = x (10^i) \\equiv 0 (mod \\text{ }7)$ por las propiedades descritas al inicio del problema sabemos  que $x \\equiv 0 (mod \\text{ }7)$ por lo tanto si existen $m_j$ y $m_i$ congruentes en módulo de 7 sabemos que $n$ *contiene* a un múltiplo de 7.\n",
    "\n",
    "Dado que ningún $m_i$ debe ser múltiplo de $7$ entonces por principio de las casillas sabemos que si $n$ tiene 7 cifras habrá $m_i$ y $m_j$ con $i \\neq j$ con la misma congruencia en módulo de 7. Por lo tanto, $n$ puede tener a lo más 6 cifras significativas.\n",
    "\n",
    "Las congruencias de $\\{9, 99, 999, 9999, 99999, 999999\\}$ en módulo $7$ son respectivamente $\\{2, 1, 5, 3, 4, 0\\}$ por lo tanto, si restamos 6 a todos ellos tendremos $\\{3, 93, 993, 9993, 99993, 999993\\}$ con congruencias $\\{3, 2, 6, 4, 5, 1\\}$ respectivamente y con cualquier número menor a 6 que restemos tendremos un $m_i \\equiv 0 (mod \\text{ }7)$ por lo que el mayor $n$ que no *contiene* ningún múltiplo de $7$ es el número **999,993**.\n",
    "\n"
   ]
  }
 ],
 "metadata": {
  "kernelspec": {
   "display_name": "Python 3",
   "language": "python",
   "name": "python3"
  },
  "language_info": {
   "codemirror_mode": {
    "name": "ipython",
    "version": 3
   },
   "file_extension": ".py",
   "mimetype": "text/x-python",
   "name": "python",
   "nbconvert_exporter": "python",
   "pygments_lexer": "ipython3",
   "version": "3.6.4"
  }
 },
 "nbformat": 4,
 "nbformat_minor": 2
}
