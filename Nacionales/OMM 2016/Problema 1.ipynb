{
 "cells": [
  {
   "cell_type": "markdown",
   "metadata": {},
   "source": [
    "### Sean $C_1$ y $C_2$ dos circunferencias tangentes externamente en $S$ tales que el radio de $C_2$ es el triple del radio de $C_1$. Sea $\\ell$ una recta que es tangente a $C_1$ en $P$ y tangente a $C_2$ en $Q$, con $P$ y $Q$ distintos de $S$. Sea $T$ el punto en $C_2$ tal que $TQ$ es diámetro de $C_2$ y sea $R$ la intersección de la bisectriz de $\\angle SQT$ con el segmento $ST$. \n",
    "\n",
    "### Demuestra que $QR = RT$.\n",
    "\n",
    "#### FIGURA\n",
    "<center><img src=\"../imagenes/2016_P1_img1.png\"></center>\n",
    "\n",
    "#### SOLUCIÓN\n",
    "\n",
    "Observemos que los centros de $C_1$ y $C_2$ son colineares con $S$ ya que la perpendicular a la línea tangente en $S$ pasa por ambos centros. Sea $D$ el punto de instersección entre la línea $\\ell$ y la línea antes mencionada que une ambos centros.\n",
    "\n",
    "Los triángulos $\\triangle DPO_1$ y $\\triangle DQO_2$ son semejantes por criterio $AA$ ya que comparten el ángulo en $D$ y al ser $P$ y $Q$ puntos de tangencia forman respectivamente ángulos rectos.  Por la construcción sabemos que $r_2 = 3r_1$ de modo que:\n",
    "\n",
    "### <center>$\\frac{QO_2}{PO_1} = \\frac{DO_2}{DO_1} \\implies \\frac{r_2}{r_1} = \\frac{3r_1}{r_1} = 3 = \\frac{5r_1 + x}{r_1 + x}$</center>\n",
    "\n",
    "dónde $x$ es la distancia de $D$ a $C_1$. Despejando $x$ tenemos que $x = r_1$ por lo tanto $DO_1 = 2r_1$ pero eso implica que el triángulo $\\triangle DPO_1$ es un triángulo notable $30-60-90$.\n",
    "\n",
    "$\\triangle SQO_2$ es un isóceles por estar construido por dos radios, implica que $\\angle SQO_2 = \\angle QSO_2 = \\frac{180 - \\angle QO_2S}{2} = 60$ y por lo tanto $\\angle TQR = 30$ por ser bisectriz.\n",
    "\n",
    "$\\angle QTS = \\frac{\\angle QO_2S}{2} = 30$ por ser un ángulo inscrito y uno central que abren el mismo arco.\n",
    "\n",
    "Por lo tanto $\\angle QTR = \\angle TQR = 30$, el triángulo $\\triangle QTR$ es isóceles y $QR = RT$.\n"
   ]
  }
 ],
 "metadata": {
  "kernelspec": {
   "display_name": "Python 3",
   "language": "python",
   "name": "python3"
  },
  "language_info": {
   "codemirror_mode": {
    "name": "ipython",
    "version": 3
   },
   "file_extension": ".py",
   "mimetype": "text/x-python",
   "name": "python",
   "nbconvert_exporter": "python",
   "pygments_lexer": "ipython3",
   "version": "3.6.4"
  }
 },
 "nbformat": 4,
 "nbformat_minor": 2
}
