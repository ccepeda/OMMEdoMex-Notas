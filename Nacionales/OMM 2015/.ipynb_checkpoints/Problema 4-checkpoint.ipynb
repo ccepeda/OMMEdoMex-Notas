{
 "cells": [
  {
   "cell_type": "markdown",
   "metadata": {},
   "source": [
    "### Sea $n$ un entero positivo. María escribe en un pizarrón las $n^3$ ternas que se pueden formar tomando tres enteros, no necesariamente distintos, entre $1$ y $n$, incluyéndolos. Después, para cada una de las ternas, María determina el número mayor (o los mayores, en caso de que haya más de uno) y borra los demás. Por ejemplo, en la terna $(1, 3, 4)$ borrará los números $1$ y $3$, mientras que en la terna $(1, 2, 2)$ borrará sólo el número $1$.\n",
    "\n",
    "### Muestra que, al terminar este proceso, la cantidad de números que quedan escritos en el pizarrón no puede ser igual al cuadrado de un número entero.\n",
    "\n",
    "#### SOLUCIÓN\n",
    "\n",
    "##### + Lema 1: Si $m = a_1 \\times a_2 \\times ... \\times a_n$ es un cuadrado perfecto y se cumple que para toda $1 \\leq i, j \\leq n$ con $i \\neq j$,  $a_i$ es primo relativo de $a_j$ entonces para toda $1 \\leq i \\leq n$, $a_i$ es un cuadrado perfecto.\n",
    "\n",
    "**Demostración:**\n",
    "Sea $m = p_1^{e_1}p_2^{e_2}...p_s^{e^s}$ la representación en primos de $m$ sabemos que para cualquier $1 \\leq i \\leq s$ el primo $p_i$ sólo puede aparecer en la representación en primos de un $a_j$, ya que si existe $a_k \\neq a_j$ que contenga a $p_i$ entonces $a_k$ y $a_j$ no serían primos relativos.\n",
    "\n",
    "Sabemos además, porque $m$ es un cuadrado perfecto, que para todo $1 \\leq i \\leq s$, $e_i$ es un par. Como $p_i$ sólo aparece en un único $a_j$ significa que aparecerá en $a_j$ con el exponente $e_i$.\n",
    "\n",
    "Lo anterior implica que para todo $1 \\leq i \\leq n$ los factores primos que aparecen en la representación en primos de $a_i$ tienen un exponente par y por lo tanto $a_i$ es un cuadrado perfecto.\n",
    "\n",
    "##### + Lema 2: $n$ y $2n + 1$  son primos relativos.\n",
    "\n",
    "**Demostración:**\n",
    "Sabemos que dos números consecutivos siempre son primos relativos. Por lo tanto $2n$ y $2n + 1$ son primos relativos. $2n$ es un múltiplo de $n$ y por tanto la totalidad de divisores de $n$ divide a $2n$. Por lo tanto $n$ y $2n + 1$ no comparten ningún divisor y son primos relativos.\n",
    "\n",
    "##### + Lema 3: $n+1$ y $2n+1$ son primos relativos.\n",
    "\n",
    "**Demostración:**\n",
    "$2(n+1) = 2n + 2$ es primo relativo de $2n+1$ por ser consecutivos.  Por un razonamiento análogo al del lema 2. $n+1$ y $2n+1$ son primos relativos.\n",
    "\n",
    "\n",
    "Tipifiquemos las ternas que escribió María como tres tipos y para cada tipo contemos la cantidad de ternas y la cantidad de números que quedaron escritos en el pizarrón.\n",
    "\n",
    "+ Tipo 1, ternas con sólo 1 número diferente:  \n",
    "    + Estas ternas son del tipo $(i, i, i)$.  Es claro que existen $3n$ ternas de este tipo y que dejan en el pizarrón $3n$ números escritos.\n",
    "+ Tipo 2, ternas con 2 números diferentes:\n",
    "    + Tenemos $\\binom{n}{2}$ formas de tomar los dos números. \n",
    "    + Para cada forma tenemos 2 opciones, escoger el número mayor como el repetido y escoger el número menor como el repetido.\n",
    "    + Finalmente para cada opción hay 3 permutaciones distintas $(a, a, b), (a, b, a), (b, a, a)$.\n",
    "    + El total de ternas es $\\frac{n(n-1)(2)(3)}{2} = 3n(n-1)$.\n",
    "    + En las ternas con el número mayor repetido quedan 2 números en el pizarrón y en las ternas con el menor repetido queda 1 número en el pizarrón, como hay mitad y mitad de estas ternas, la cantidad de números que dichas ternas dejan en el pizarrón es $\\frac{9n(n-1)}{2}$\n",
    "+ Tipo 3, ternas con 3 números diferentes:\n",
    "    + Tenemos $\\binom{n}{3}$ formas de tomar los 3 números.\n",
    "    + Para cada forma tenemos 6 permutaciones.\n",
    "    + El total de ternas es $n(n-1)(n-2)$.\n",
    "    + Cada terna deja únicamente un número por lo que el total de números es $n(n-1)(n-2)$\n",
    "    \n",
    "Sumando los números que quedan en el pizarrón tenemos:\n",
    "\n",
    "$3n + \\frac{9n^2}{2} - \\frac{9n}{2} + n^3 - 2n^2 -n^2 + 2n = n^3 + \\frac{3n^2}{2} + \\frac{n}{2} = \\frac{1}{2}(2n^3 + 3n^2 + n) = \\frac{1}{2}(n)(2n^2 + 3n + 1) = \\frac{n(n+1)(2n+1)}{2}$\n",
    "\n",
    "Por los lemas 2 y 3 $n, (n+1), (2n+1)$ son primos relativos entre si, por lo que si su multiplicación debe ser igual a un cuadrado perfecto multiplicado por $2$ implica por el lema 1 que dos de ellos deben ser cuadrados perfectos y otro debe ser cuadrado perfecto multiplicado por 2.\n",
    "\n",
    "$n$ y $n+1$ no puedes ser cuadrados perfectos porque no hay cuadrados perfectos consecutivos por lo que $2n+1$ debe ser uno de los cuadrados perfectos y $n$ o $n+1$ deben ser un cuadrado perfecto y un cuadrado perfecto multiplicado por 2.\n",
    "\n",
    "+ Caso 1: Supongamos que $n = 2m$ implica que el cuadardo perfecto multiplicado por $2$ es $n$ ya que $n+1$ es impar de modo que $m$ es un cuadrado perfecto. Entonces $2n+1 = 4m + 1$ pero $4m$ es un cuadrado por lo tanto $4m + 1$ no puede ser un cuadrado y hay una contradicción.\n",
    "+ Caso 2: Supongamos que $n = 2m+1$ entonces el cuadrado perfecto multiplicado por $2$ es $n+1$. $n+1 = 2m + 2 = 2(m+1)$ implica que $m+1$ es un cuadrado perfecto.  Entonces $2n+1 = 4m + 3 = 4m + 4 - 1 = 4(m+1) - 1$ pero $4(m+1)$ es un cuadrado perfecto por lo tanto $4(m+1) - 1$ no puede ser un cuadrado perfecto  hay una contradicción.\n",
    "\n",
    "Por lo tanto se concluye que la cantidad de números que quedan escritos en el pizarrón no puede ser un cuadrado perfecto."
   ]
  }
 ],
 "metadata": {
  "kernelspec": {
   "display_name": "Python 3",
   "language": "python",
   "name": "python3"
  },
  "language_info": {
   "codemirror_mode": {
    "name": "ipython",
    "version": 3
   },
   "file_extension": ".py",
   "mimetype": "text/x-python",
   "name": "python",
   "nbconvert_exporter": "python",
   "pygments_lexer": "ipython3",
   "version": "3.6.4"
  }
 },
 "nbformat": 4,
 "nbformat_minor": 2
}
