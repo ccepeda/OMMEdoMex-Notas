{
 "cells": [
  {
   "cell_type": "markdown",
   "metadata": {},
   "source": [
    "### Sea $ABC$ un triángulo y sea $H$ su ortocentro. Sea $PQ$ un segmento que pasa por $H$ con $P$ en $AB$, $Q$ en $AC$ y tal que $\\angle PHB = \\angle CHQ$. Finalmente en el circuncírculo del triángulo $ABC$, considera $M$ el punto medio del arco $BC$ que no contiene a $A$. \n",
    "\n",
    "### Muestra que $MP = MQ$.\n",
    "\n",
    "#### FIGURA\n",
    "<center><img src=\"../imagenes/2015_P1_img1.png\"></center>\n",
    "\n",
    "#### SOLUCIÓN\n",
    "\n",
    "##### + **Lema 1: $\\triangle PAQ$ es un isóceles.**\n",
    "\n",
    "**Demostración:**\n",
    "\n",
    "+ $\\angle BHP = \\angle QHC$  por construccion.\n",
    "+ $180 - \\angle QHB = \\angle BHP = \\angle QHC = 180 - \\angle CHP \\implies \\angle QHB = \\angle CHP$.\n",
    "+ Sean $R$ y $S$ los puntos de intersección de $CH$ con $AB$ y de $BH$ con $AC$ respectivamente.  Por construcción forman ángulos rectos por lo que los triángulos $\\triangle HSQ$ y $\\triangle HRP$ son semejantes por criterio $AA$ y $\\angle HPB = \\angle HQC$.\n",
    "+ Por lo tanto $\\triangle PAQ$ es un isóceles.\n",
    "\n",
    "\n",
    "##### + **Lema 2: $\\triangle PAM$ y $\\triangle QAM$ son congruentes.**\n",
    "\n",
    "**Demostración:**\n",
    "\n",
    "Si $H$ queda fuera del triángulo.\n",
    "+ $\\angle PAC = \\angle QAB$ por se opuestos por el vértice. \n",
    "+ $\\angle CAM = \\angle BAM$ por abrir un arco del mismo tamaño (construcción).\n",
    "+ $\\angle PAM = \\angle PAC + \\angle CAM = \\angle QAB + \\angle BAM = \\angle QAM$\n",
    "+ $PA$ = $QA$ por lema 1.\n",
    "+ $AM$ es un lado común a ambos triángulos.\n",
    "+ Por lo tanto $\\triangle PAM$ y $\\triangle QAM$ son congruentes por $LAL$.\n",
    "\n",
    "Si $H$ está dentro del triángulo.\n",
    "+ $\\angle PAM = \\angle QAM$ porque abren el mismo arco.\n",
    "+ $PA = QA$ por lema 1.\n",
    "+ $AM$ es un lado común a ambos triángulos.\n",
    "+ Por lo tanto $\\triangle PAM$ y $\\triangle QAM$ son congruentes por $LAL$\n",
    "\n",
    "#### $PM = QM$ como consecuencia del lema 2.\n",
    "\n"
   ]
  }
 ],
 "metadata": {
  "kernelspec": {
   "display_name": "Python 3",
   "language": "python",
   "name": "python3"
  },
  "language_info": {
   "codemirror_mode": {
    "name": "ipython",
    "version": 3
   },
   "file_extension": ".py",
   "mimetype": "text/x-python",
   "name": "python",
   "nbconvert_exporter": "python",
   "pygments_lexer": "ipython3",
   "version": "3.6.5"
  }
 },
 "nbformat": 4,
 "nbformat_minor": 2
}
