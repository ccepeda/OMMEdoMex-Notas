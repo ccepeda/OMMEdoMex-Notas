{
 "cells": [
  {
   "cell_type": "markdown",
   "metadata": {},
   "source": [
    "### Sean $1 = d_1 < d_2 < d_3 < . . . < d_k = n$ los divisores del entero positivo $n$. Encuentra todos los números $n$ tales que $n = d_2^2 + d_3^3$.\n",
    "\n",
    "#### SOLUCIÓN\n",
    "\n",
    "$d_2$ al ser el menor divisor de $n$ mayor a $1$ forzosamente es un número primo. En $n = d_2^2 + d_3^3$, $d_2$ divide al lado izquierdo de la igualdad y por lo tanto implica que $d_2 | d_3^3$ lo cual implica que $d_3^3$ contiene a $d_2$ en su factorización en primos y por lo tanto $d_2|d_3$.\n",
    "\n",
    "Ahora, si $d_3$ está formado por dos o más primos distintos, uno de ellos $d_2$ y llamemos a otro $p$ entonces $p$ sería divisor de $n$ y menor que $d_3$ lo cual es una contradicción.  Por lo tanto $d_3$ sólo contiene al primo $d_2$ por lo tanto $d_3 = d_2^2$.\n",
    "\n",
    "Tenemos entonces que $n = d_2^2 + d_2^6 = d_2^2 (1 + d_2^4)$, si:\n",
    "\n",
    "$\\begin{cases} d_2 = 2, & n = 4(17) = 68 \\\\ d_2 = impar, & n = impar(par) = par\\text{ }! \\text{ implicaria que }d_2 = 2\\end{cases}$\n",
    "\n",
    "De modo que el único valor posible para $n$ es $68$.\n",
    "\n"
   ]
  }
 ],
 "metadata": {
  "kernelspec": {
   "display_name": "Python 3",
   "language": "python",
   "name": "python3"
  },
  "language_info": {
   "codemirror_mode": {
    "name": "ipython",
    "version": 3
   },
   "file_extension": ".py",
   "mimetype": "text/x-python",
   "name": "python",
   "nbconvert_exporter": "python",
   "pygments_lexer": "ipython3",
   "version": "3.6.4"
  }
 },
 "nbformat": 4,
 "nbformat_minor": 2
}
