{
 "cells": [
  {
   "cell_type": "markdown",
   "metadata": {},
   "source": [
    "### Un rey decide realizar un juego para premiar a uno de sus caballeros, para ello, acomoda a los $n$ caballeros en una mesa redonda y hace que digan los números $1, 2, 3$... y repitan de nuevo $1, 2, 3$ y así sucesivamente (lo dicen en el sentido de las manecillas del reloj y cada persona dice un número). Las personas que dicen $2$ ó $3$ son retiradas inmediatamente y el juego continúa hasta que queda un sólo caballero, el ganador. Se numeran las personas del $1$ al $n$ conforme al primer turno. \n",
    "\n",
    "### Encuentra todos los valores de $n$ de tal manera que el ganador sea el caballero 2008.\n",
    "\n",
    "\n",
    "#### SOLUCIÓN\n",
    "\n",
    "##### Lema: El caballero con el número 1 gana si $n = 3^k$ o si $n = 2 \\times 3^k$ para $k \\geq 0$ entero.\n",
    "**Demostración:** \n",
    "Supongamos que $n = 3^k$ para algún $k \\geq 0$ entero.  El caballero $1$ inicia diciendo $1$ y permanece en la mesa durante la primera ronda.  Acabada la primera ronda quedarán en la mesa $\\frac{3^k}{3^1} = 3^{k-1}$ y volverá a ser el turno de del caballero 1.  Tras $k$ rondas habrá en la mesa $\\frac{3^k}{3^k} = 1$ caballeros.  El caballero 1 permanece en la mesa y por lo tanto es el ganador.\n",
    "\n",
    "Supongamos ahora que $n = 2 \\times 3^k$ para algún $k \\geq 0$ entero. Con un razonamiento análogo al anterior tenemos que tras $k$ rondas habrá en la mesa $\\frac{2 \\times 3^k}{3^k} = 2$ caballeros y será el turno del caballero $1$.  El caballero $1$ dice $1$ y permanece, el otro caballero que queda dice $2$ y es eliminado dejando al caballero $1$ como el ganador. <br>\n",
    "$\\square$\n",
    "\n",
    "Sea $n \\geq 2008$ el número de caballeros en la mesa.  Se inicia la primera ronda y al llegar al caballero $2007$ este dice $3$ ya que $2007 \\equiv 3\\text{ }(mod\\text{ }3)$ y queda eliminado. Es el turno del caballero $2008$ el cual dirá $1$ y permanecerá jugando.  Sin embargo justo antes de que diga su número, podemos renumerar a los caballeros comenzando por el $2008$ asignándole el $1$ y continuando en sentido de las manecillas del reloj.  Del *lema* sabemos que el caballero $2008$ (nuevo caballero $1$) ganará si en ese momento quedan en la mesa una cantidad de caballeros de la forma $3^k$ o $2 \\times 3^k$.  Hasta ese momento se han eliminado $\\frac{2(2007)}{3} = 1338$ por lo tanto, el caballero $2008$ gana si\n",
    "\n",
    "<center>$n = \\begin{cases}3^k + 1338 \\\\ 2 \\times 3^k + 1338\\end{cases}$ con $k \\geq 6$ </center>"
   ]
  }
 ],
 "metadata": {
  "kernelspec": {
   "display_name": "Python 3",
   "language": "python",
   "name": "python3"
  },
  "language_info": {
   "codemirror_mode": {
    "name": "ipython",
    "version": 3
   },
   "file_extension": ".py",
   "mimetype": "text/x-python",
   "name": "python",
   "nbconvert_exporter": "python",
   "pygments_lexer": "ipython3",
   "version": "3.6.4"
  }
 },
 "nbformat": 4,
 "nbformat_minor": 2
}
