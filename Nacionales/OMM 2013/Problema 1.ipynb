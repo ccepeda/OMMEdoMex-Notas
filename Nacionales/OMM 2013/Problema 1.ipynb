{
 "cells": [
  {
   "cell_type": "markdown",
   "metadata": {},
   "source": [
    "### Se escriben los números primos en orden, $p_1=2, p_2=3, p_3=5, ...$.\n",
    "\n",
    "### Encuentra todas las parejas de números enteros positivos $a$ y $b$ con $a-b \\geq 2$, tales que $p_a - p_b$ divide al número entero $2(a-b)$.\n",
    "\n",
    "### NOTAS: Cuando se tiene un problema en que piden *todas* las opciones posibles para una solución significa que el número de soluciones es finito y pequeño o que las soluciónes son todas de una forma escribible en función de variables.  Como en este problema estamos hablando de primos y una función para escribir primos no es algo sencillo, entonces debe querer decir que las soluciones son pocas.  El análisis entonces debe empezar buscando por qué pudiera ser que la cantidad de soluciones sea finita y pequeña.\n",
    "\n",
    "\n",
    "#### SOLUCIÓN\n",
    "\n",
    "+ **Lema 1: Entre tres impares consecutivos siempre hay un múltiplo de 3.**\n",
    "\n",
    "**Demostración:**\n",
    "Sean $2m + 1, 2m + 3, 2m + 5$ tres impares consecutivos. Tenemos entonces que $\\begin{cases} m \\equiv 0 (mod 3) \\implies 3 | 2m + 3 \\\\ m \\equiv 1 (mod 3) \\implies 3 | 2m + 1 \\\\ m \\equiv 2 (mod 3) \\implies 3 | 2m + 5 \\end{cases}$ \n",
    "\n",
    "por lo tanto uno de los 3 impares es divisible entre 3.\n",
    "\n",
    "+ **Lema 2: Para cualesquiera dos primos $p_i$ y $p_{i+2}$ tales que $i > 2$, se tiene que $p_{i+2} - p_i > 4$.**\n",
    "\n",
    "**Demostración:**\n",
    "A excepción de $p_1 = 2$ todos los primos son impares, de otra forma serían divisibles por 2. Del *lema 2* sabemos que entre tres impares consecutivos uno es múltiplo de 3 y por ende (exceptuando el 3) ese número no es primo. Por lo tanto 3 primos consecutivos mayores a 3 deben caer en al menos 4 impares consecutivos y por lo tanto la diferencia entre el primero y el último de los 3 es mayor a 4.\n",
    "\n",
    "+ **Lema 3: Para cualesquiera dos primos $p_i$ y $p_j$ tales que $j - 1 > i > 2$ se tiene que $p_j - p_i > 2(j - i)$.**\n",
    "\n",
    "**Demostración:**\n",
    "$p_j - p_i = (p_j - p_{i+2}) + (p_{i+2} - p_i)$ por el *lema 2* y el hecho de que todos los primos mayores a 2 son impares sabemos que $(p_j - p_{i+2}) + (p_{i+2} - p_i) > (p_j - p_{i+2}) + 4 = (p_j - p_{i+2}) + 2((i + 2) - i) = 2(j - (i + 2)) + 2((i + 2) - i) = 2(j - i)$.\n",
    "\n",
    "**Corolario: $p_j - p_i$ no divide a $2(j - i)$ para $j - 1 > i > 2$ debido a que es mayor que él.**\n",
    "\n",
    "Las únicas opciones que pueden cumplir el requerimiento del problema es sí $b \\leq 2$.  Revisando las opciones tenemos que:\n",
    "\n",
    "+ $b = 1, p_b = 2$ Se pueden probar manualmente las parejas (3, 1), (4, 1) y se ve que no cumplen. Para $a \\geq 5$ tenemos que $p_5 - p_b = 11 - 2 = 9 > 8 = 2(5 - b)$ y del *lema 3* sabemos que $p_a - p_5 > 2(a - 5)$ por lo tanto $p_a - p_b > 2(a - b)$ y nunca podrá dividirlo.\n",
    "\n",
    "+ $b = 2, p_b = 3$ Probando manualmente la pareja (4, 2) se observa que cumple.  Para $a \\geq 5$ tenemos que $p_5 - p_b = 11 - 3 = 8 > 6 = 2(5 - b)$ y del *lema 3* sabemos que $p_a - p_5 > 2(a - 5)$ por lo tanto $p_a - p_b > 2(a - b)$ y nunca podrá dividirlo.\n",
    "\n",
    "### Por lo tanto la única pareja de enteros positivos que cumple es (4, 2)."
   ]
  }
 ],
 "metadata": {
  "kernelspec": {
   "display_name": "Python 3",
   "language": "python",
   "name": "python3"
  },
  "language_info": {
   "codemirror_mode": {
    "name": "ipython",
    "version": 3
   },
   "file_extension": ".py",
   "mimetype": "text/x-python",
   "name": "python",
   "nbconvert_exporter": "python",
   "pygments_lexer": "ipython3",
   "version": "3.6.4"
  }
 },
 "nbformat": 4,
 "nbformat_minor": 2
}
