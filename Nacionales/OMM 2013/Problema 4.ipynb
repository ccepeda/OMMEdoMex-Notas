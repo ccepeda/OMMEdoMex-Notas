{
 "cells": [
  {
   "cell_type": "markdown",
   "metadata": {},
   "source": [
    "### Un cubo de $n \\times n \\times n$ está construido con cubitos de $1 \\times 1 \\times 1$, algunos negros y otros blancos, de manera que en cada uno de los subprismas de $n \\times 1 \\times 1$, de $1 \\times n \\times 1$ y de $1 \\times 1 \\times n$ hay exactamente dos cubitos negros y entre ellos hay un número par (posiblemente 0) de cubitos blancos intermedios. Por ejemplo, en la siguiente ilustración, se muestra una posible *rebanada* del cubo de $6 \\times 6 \\times 6$ (formada por 6 subprismas de $1 \\times 6 \\times 1$).\n",
    "\n",
    "<center><img src=\"../imagenes/2013_P4_img1.png\"></center>\n",
    "\n",
    "### Muestra que es posible sustituir la mitad de los cubitos negros por cubitos blancos para que en cada subprisma de $n \\times 1 \\times 1$, de $1 \\times n \\times 1$ y de $1 \\times 1 \\times n$ haya exactamente un cubito negro.\n",
    "\n",
    "### NOTAS: El primer punto a notar en este tipo de problemas que a veces genera confusión es que no te están pidiendo que des una posible configuración o construcción de cubo que permita hacer la operación deseada, sino que el cubo ya está dado y tu tienes que demostrar que para cualquier configuración posible de cubo inicial se puede hacer lo solicitado por el problema.  El segundo punto es que el cubo, si bien puede ser de muchas formas, tiene limitántes específicas, en este caso que el número de cubos blancos entre 2 cubos negros de un subprisma es par. Es MUY probable que la solución requiera hacer uso de esta limitante, así que el primer punto a *explotar* debe ser esa característica.\n",
    "\n",
    "#### SOLUCIÓN\n",
    "\n",
    "Notemos que si marcamos de forma alternada los cubos de un subprisma con los colores *rojo* y *azul* los dos cubos negros contenidos en ese subprisma tendrán ambos marca de color distinto.  Esto es debido a que la cantidad de cubos blancos entre ellos es par y en la coloración propuesta dos cubos con el mismo color de marca siempre están separados por un número impar de cubos.\n",
    "\n",
    "Veamos que es posible marcar una rebanada de $1 \\times n \\times n$ como la de la figura del problema con los colores *rojo* y *azul* (en forma de tablero de ajedrez) de modo que en cualquier subprisma de esta rebana, ya sea de tipo $1 \\times n \\times 1$ o $1 \\times 1 \\times n$ dentro de la misma, las marcas *rojo* y *azul* están alternadas y se sigue manteniendo que los dos cubos negros en cada subprisma tienen marcas de distinto color.\n",
    "\n",
    "Veamos finalmente que si se construye el cubo de $n \\times n \\times n$ apilando rebanadas de $1 \\times n \\times n$ marcadas como se describió anteriormente pero de forma que alternen sus marcas, es decir, entre dos rebanadas apiladas, los cubos deben alternar su color.  Tendremos que los cubos negros en los subprismas de tipo $n \\times 1 \\times 1$ tendrán marcas de diferente color al igual que en los demás tipos de subprisma como se observo previamente.\n",
    "\n",
    "En un cubo marcado como el descrito en los párrafos anteriores, para cada subprisma que se elija, de cualquiera de los tipos posibles, sus dos cubos negros tienen marcas de distinto color.  \n",
    "\n",
    "Sustituimos entonces los cubos negros marcados con *rojo* en todos los subprismas de tipo $1 \\times 1 \\times n$ por un cubo blanco. Al hacerlo habremos sustituido exactamente la mitad de los cubos negros, ya que había 2 por subprisma y además habremos eliminado todos los cubos negros con marca *rojo* del cubo original, ya que al tomar todos los subprismas de tipo $1 \\times 1 \\times n$ estamos abarcando todo el cubo. \n",
    "\n",
    "Por lo tanto en cada subprisma que se tome, de cualquier tipo, sólo quedará 1 cubo negros con marca *azul*. Quedando demostrado que es posible lograr la sustitución solicitada en el problema."
   ]
  }
 ],
 "metadata": {
  "kernelspec": {
   "display_name": "Python 3",
   "language": "python",
   "name": "python3"
  },
  "language_info": {
   "codemirror_mode": {
    "name": "ipython",
    "version": 3
   },
   "file_extension": ".py",
   "mimetype": "text/x-python",
   "name": "python",
   "nbconvert_exporter": "python",
   "pygments_lexer": "ipython3",
   "version": "3.6.4"
  }
 },
 "nbformat": 4,
 "nbformat_minor": 2
}
