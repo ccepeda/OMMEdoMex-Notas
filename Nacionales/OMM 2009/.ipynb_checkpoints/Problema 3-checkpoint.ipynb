{
 "cells": [
  {
   "cell_type": "markdown",
   "metadata": {},
   "source": [
    "### Sean $a, b, c$ números reales positivos tales que $abc = 1$. Muestra que\n",
    "\n",
    "### <center>$\\frac{a^3}{a^3 + 2} + \\frac{b^3}{b^3 + 2} + \\frac{c^3}{c^3 + 2} \\geq 1$ y que $\\frac{1}{a^3 + 2} + \\frac{1}{b^3 + 2} + \\frac{1}{c^3 + 2} \\leq 1$</center>\n",
    "\n",
    "#### SOLUCIÓN\n",
    "\n",
    "Porque $abc = 1$ veamos que:\n",
    "\n",
    "## <center>$\\frac{a^3}{a^3 + 2} = \\frac{\\frac{a^3}{abc}}{\\frac{a^3 + 2}{abc}} = \\frac{\\frac{a^2}{bc}}{\\frac{a^2}{bc} + 2} = \\frac{a^2}{a^2 + 2bc}$</center>\n",
    "\n",
    "Por la desigualdad de Cauchy-Schwarz tenemos que $\\displaystyle\\sum_{i=1}^{n} \\frac{x_i^2}{y_i} \\geq \\frac{\\bigg(\\displaystyle\\sum_{i=1}^{n} x_i\\bigg)^2}{\\displaystyle\\sum_{i=1}^{n} y_i}$\n",
    "\n",
    "Por lo tanto si $x_1 = a, \\text{ }x_2 = b,\\text{ } x_3 = c,\\text{ } y_1 = (a^2 + 2), \\text{ }y_2 = (b^2 + 2), \\text{ }y_3 = (c^2 + 2)$ tenemos que\n",
    "\n",
    "### <center>$\\frac{a^2}{a^2 + 2bc} + \\frac{b^2}{b^2 + 2ac} + \\frac{c^2}{c^2 + 2ab} \\geq \\frac{(a + b + c)^2}{a^2 + b^2 + c^2 + 2ab + 2ac + 2bc} = \\frac{(a + b + c)^2}{(a + b + c)^2} = 1$</center>\n",
    "\n",
    "Con lo que queda demostrada la primera desigualdad.\n",
    "\n",
    "\n",
    "\n"
   ]
  }
 ],
 "metadata": {
  "kernelspec": {
   "display_name": "Python 3",
   "language": "python",
   "name": "python3"
  },
  "language_info": {
   "codemirror_mode": {
    "name": "ipython",
    "version": 3
   },
   "file_extension": ".py",
   "mimetype": "text/x-python",
   "name": "python",
   "nbconvert_exporter": "python",
   "pygments_lexer": "ipython3",
   "version": "3.6.4"
  }
 },
 "nbformat": 4,
 "nbformat_minor": 2
}
