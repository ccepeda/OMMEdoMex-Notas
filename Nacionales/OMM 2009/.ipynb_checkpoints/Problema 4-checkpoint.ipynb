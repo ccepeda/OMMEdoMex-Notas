{
 "cells": [
  {
   "cell_type": "markdown",
   "metadata": {},
   "source": [
    "### Sea $n > 1$ un entero impar y sean $a_1, a_2, ..., a_n$ números reales distintos. Sea $M$ el mayor de estos números y sea $m$ el menor de ellos. Muestra que es posible escoger los signos en la expresión $s = ±a_1 ± a_2 ± ··· ± a_n$ de manera que $m < s < M$.\n",
    "\n",
    "#### SOLUCIÓN\n",
    "\n",
    "##### Lema: Sean $b_1 < b_2 < b_3$ reales distintos, $b_1 < s = (b_1 - b_2 + b_3) < b_3$.\n",
    "\n",
    "**Demostración:**<br>\n",
    "$b_2 < b_3 \\implies 0 < b_3 - b_2 \\implies b_1 < b_3 - b_2 + b_1$ <br>\n",
    "$b_1 < b_2 \\implies b_1 - b_2 < 0 \\implies b_1 - b_2 + b_3 < b_3$ <br>\n",
    "$\\square$\n",
    "\n",
    "Sea $c_1 < c_2 < ... < c_m$ reales distintos con $m = 2k + 1$ para $k \\geq 1$. <br>\n",
    "Si $k = 1$ por el *lema* sabemos que es posible construir $s_1$ tal que $c_1 < s_1 < c_m$. \n",
    "\n",
    "Supongamos que es posible construir ese $s_k$ para cualquier $k$, para $k + 1$ tenemos qué $c_1 < c_2 < s_k < c_{m-1} < c_m$ pero $s_k$ fue construido asignando los signos de los números $c_2, c_3, ..., c_{m-1}$ y por el lema sabemos que con $c_1 < s_k < c_m$ es posible construir $s_{k+1}$ tal que $c_1 < s_{k+1} < c_m$ con esos tres valores.\n",
    "\n",
    "Por lo tanto para cualquier $n = 2k + 1$ con $k \\geq 1$ es posible asignar signos a los valores $m = a_1, a_2, ..., a_n = M$ de tal forma que la suma cumpla que $m < s < M$."
   ]
  }
 ],
 "metadata": {
  "kernelspec": {
   "display_name": "Python 3",
   "language": "python",
   "name": "python3"
  },
  "language_info": {
   "codemirror_mode": {
    "name": "ipython",
    "version": 3
   },
   "file_extension": ".py",
   "mimetype": "text/x-python",
   "name": "python",
   "nbconvert_exporter": "python",
   "pygments_lexer": "ipython3",
   "version": "3.6.4"
  }
 },
 "nbformat": 4,
 "nbformat_minor": 2
}
