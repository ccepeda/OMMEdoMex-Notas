{
 "cells": [
  {
   "cell_type": "markdown",
   "metadata": {},
   "source": [
    "### Sea $ABC$ un tríangulo y $AD$ la altura sobre el lado $BC$. Tomando a $D$ como centro y a $AD$ como radio, se traza una circunferencia que corta a la recta $AB$ en $P$, y corta a la recta $AC$ en $Q$. Muestra que el triángulo $AQP$ es semejante al triángulo $ABC$.\n",
    "\n",
    "#### FIGURA\n",
    "<center><img src=\"../imagenes/2009_P1_img1.png\"></center>\n",
    "\n",
    "#### SOLUCIÓN\n",
    "\n",
    "$\\angle DAP = \\angle DPA$ (verdes) por ser ángulos base de un isóceles. <br>\n",
    "$\\angle DAQ = \\angle DQA$ (azules) por ser ángulos base de un isóceles. <br>\n",
    "$\\angle DPQ = \\angle DQP$ (rojos) por ser ángulos base de un isóceles.  <br>\n",
    "\n",
    "$2$ rojos + $2$ azules + $2$ verdes = $180 \\implies $ rojo + azul + verde $ = 90$. <br>\n",
    "$\\angle B = 90 - \\text{ verde}$ por $\\triangle ABD$, por lo tanto $\\angle B = $ rojo + azul $ = \\angle Q$ <br>\n",
    "\n",
    "$\\triangle ABD$ es semejante a $\\triangle APQ$ por criterio $AA$ por compartir $\\angle A$ y $\\angle B = \\angle Q$.\n",
    "\n",
    "\n"
   ]
  }
 ],
 "metadata": {
  "kernelspec": {
   "display_name": "Python 3",
   "language": "python",
   "name": "python3"
  },
  "language_info": {
   "codemirror_mode": {
    "name": "ipython",
    "version": 3
   },
   "file_extension": ".py",
   "mimetype": "text/x-python",
   "name": "python",
   "nbconvert_exporter": "python",
   "pygments_lexer": "ipython3",
   "version": "3.6.4"
  }
 },
 "nbformat": 4,
 "nbformat_minor": 2
}
