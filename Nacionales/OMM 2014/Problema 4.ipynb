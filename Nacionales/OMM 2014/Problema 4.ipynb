{
 "cells": [
  {
   "cell_type": "markdown",
   "metadata": {},
   "source": [
    "### Sea $ABCD$ un rectángulo con diagonales $AC$ y $BD$. Sean $E$ el punto de intersección de la bisectriz del ángulo $\\angle CAD$ con el segmento $CD$, $F$ el punto sobre el segmento $CD$ tal que $E$ es el punto medio de $DF$ y $G$ el punto sobre la recta $BC$ tal que $BG = AC$ (con $C$ entre $B$ y $G$).\n",
    "\n",
    "### Muestra que la circunferencia que pasa por $D$, $F$ y $G$ es tangente $BG$.\n",
    "\n",
    "### NOTAS: Para los problemas de geometría una técnica recomendable es buscar qué podrías demostrar que implicara el resultado que quieres probar y seguir así hacia atrás hasta llegar a cosas que sabes.  El otro punto muy importante es no perder de vista todos los datos que se dieron en la construcción, si en tu demostración no estás usando todos los requerimientos entonces corres peligro de querer demostrar una propiedad para todas las figuras que si bien se cumple en la construcción dada no se cumplirá en todas las figuras y por eso no tendrás elementos suficientes para demostrarlo ni para negarlo, consumiendo tiempo sin llegar a nada.\n",
    "\n",
    "\n",
    "#### SOLUCIÓN\n",
    "\n",
    "+ **Lema 1: Los $\\triangle ADE$ y $\\triangle FCG$ son semejantes.**\n",
    "\n",
    "**Demostración:**\n",
    "<center><img src=\"../imagenes/2014_P4_img1.png\"></center>\n",
    "\n",
    "Por teorema de la bisectriz en $\\triangle ACD$ tenemos que $\\frac{AC}{AD} = \\frac{CE}{DE}$ pero de la construcción sabemos que $AC = BG$, $DE = FE$ y $AD = BC$. Sustituyendo obtenemos:\n",
    "\n",
    "<center>$1 + \\frac{CG}{BC} = \\frac{BC}{BC} + \\frac{CG}{BC} = \\frac{BC + CG}{BC} = \\frac{BG}{BC} = \\frac{AC}{AD} = \\frac{CE}{DE} = \\frac{EF + CF}{EF} = \\frac{EF}{EF} + \\frac{CF}{EF} = 1 + \\frac{CF}{EF} \\implies \\frac{CG}{BC} = \\frac{CF}{EF} \\implies \\frac{CG}{CF} = \\frac{EF}{BC} $</center>\n",
    "\n",
    "Por lo tanto los $\\triangle ADE$ y $\\triangle FCG$ son semejantes.\n",
    "\n",
    "+ **Lema 2: Los $\\triangle DCG$ y $\\triangle FCG$ son semejantes.**\n",
    "\n",
    "**Demostración:**\n",
    "<center><img src=\"../imagenes/2014_P4_img2.png\"></center>\n",
    "\n",
    "+ En la figura, los ángulos $morado = \\angle BDG = \\angle BGD$ son iguales por la construcción.\n",
    "+ En la figura, Los ángulos $verde = \\angle DBC = \\angle BDA$ son iguales por ser internos opuestos de paralelas.\n",
    "+ En la figura, $verde = \\angle BDA = 2 \\angle DAE = 2 rojos $ por isóceles formado por diagonales de rectángulo y bisectriz.\n",
    "+ Por $\\triangle BGD$ tenemos que $verde + 2morado = 180 \\implies 2rojo + 2morado = 180 \\implies rojo + morado = 90$.\n",
    "+ El último punto implica que $\\angle CDG = rojo$\n",
    "+ Por Lema 1 sabemos que $\\angle CGF = rojo$ por lo tanto por criterio $AA$, $\\triangle DCG$ y $\\triangle FCG$ son semejantes.\n",
    "\n",
    "Por *lema 1* y *lema 2* sabemos que $\\angle CGF = \\angle FDG$ pero ambos ángulos abren el arco $FG$ lo cual implica que $\\angle CGF$ es semi-inscrito en la circunferencia y por lo tanto la recta $BG$ es tangente a la misma.\n",
    "\n",
    "\n"
   ]
  }
 ],
 "metadata": {
  "kernelspec": {
   "display_name": "Python 3",
   "language": "python",
   "name": "python3"
  },
  "language_info": {
   "codemirror_mode": {
    "name": "ipython",
    "version": 3
   },
   "file_extension": ".py",
   "mimetype": "text/x-python",
   "name": "python",
   "nbconvert_exporter": "python",
   "pygments_lexer": "ipython3",
   "version": "3.6.4"
  }
 },
 "nbformat": 4,
 "nbformat_minor": 2
}
