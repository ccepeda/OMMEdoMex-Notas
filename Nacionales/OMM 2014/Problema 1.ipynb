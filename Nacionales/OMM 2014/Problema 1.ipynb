{
 "cells": [
  {
   "cell_type": "markdown",
   "metadata": {},
   "source": [
    "### Cada uno de los números del 1 al 4027 se ha coloreado de verde o de rojo. Cambiar el color de un número es pasarlo a verde si era rojo, y pasarlo a rojo si era verde.\n",
    "\n",
    "### Diremos que dos enteros positivos $m$ y $n$ son *cuates* si alguno de los números $\\frac{m}{n}$ o $\\frac{n}{m}$ es un número primo.  Un *paso* consiste en elegir dos números que sean *cuates* y cambiar el color de cada uno de los números.\n",
    "\n",
    "### Muestra que después de realizar algunos *pasos* es posible hacer que todos los números del 1 al 2014 sean verdes.\n",
    "\n",
    "\n",
    "#### NOTAS: Una forma de abordar estos problemas es buscar una estrategia de solución.  Este problema se antoja para crear una estrategia recursiva o inductiva ya que si demuestras que teniendo los primeros $x$ elementos verdes, es viable construir $x + 1$ elementos verdes entonces se está cerca de una solución.\n",
    "\n",
    "#### SOLUCIÓN\n",
    "\n",
    "+ **Lema: $i$ y $2i$ son cuates al igual que lo son $i$ y $3i$.\n",
    "\n",
    "**Demostracion:**\n",
    "\n",
    "Sea $n=i, m=2i$ entonces $\\frac{m}{n} = \\frac{2i}{i} = 2$ es primo y son *cuates*.  \n",
    "Similarmente si $n=i, m=3i$ entonces $\\frac{m}{n} = \\frac{3i}{i} = 3$ es primo y son *cuates*.\n",
    "\n",
    "Llamemos $cambio(x, y)$ a aplicar un *paso* seleccionando $n = x, m = y$.\n",
    "\n",
    "Supongamos que $i$ es el menor número coloreado de rojo y hagamos lo siguiente:\n",
    "\n",
    "<center>\n",
    "$\\begin{cases} i > 2014, & \\text{Del 1 al 2014 son verdes y terminamos.} \\\\ i < 2014, & i, 2i < 4027 \\text{ son cuates por lema, tras } cambio(i, 2i) \\text{ se tienen verdes del 1 al } i \\\\ i = 2014, & cambio(1007,2014), cambio(1007,3021) \\text{ se pueden aplicar por lema y dejan verdes del 1 al 2014} \\end{cases}$\n",
    "</center>\n",
    "\n",
    "Observemos que tras realizar la acción correspondiente habrá aumentado el menor número coloreado de rojo.  De modo que si aplicamos esta operación de forma repetida eventualmente tendremos que el menor número coloreado de rojo es mayor a $2014$ y habremos terminado."
   ]
  }
 ],
 "metadata": {
  "kernelspec": {
   "display_name": "Python 3",
   "language": "python",
   "name": "python3"
  },
  "language_info": {
   "codemirror_mode": {
    "name": "ipython",
    "version": 3
   },
   "file_extension": ".py",
   "mimetype": "text/x-python",
   "name": "python",
   "nbconvert_exporter": "python",
   "pygments_lexer": "ipython3",
   "version": "3.6.4"
  }
 },
 "nbformat": 4,
 "nbformat_minor": 2
}
