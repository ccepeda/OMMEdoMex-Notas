{
 "cells": [
  {
   "cell_type": "markdown",
   "metadata": {},
   "source": [
    "### Un subconjunto $B$ de ${1, 2, ..., 2017}$, tiene la propiedad $T$ si: *Cada tres números de $B$ son las longitudes de los lados de un triángulo (de área positiva)*.\n",
    "\n",
    "### Determina la mayor cantidad de números que puede tener un conjunto $B$ que tenga la propiedad $T$.\n",
    "\n",
    "#### SOLUCIÓN\n",
    "\n",
    "Sean $b_1 < b_2 < ... < b_n$ los elementos del conjunto $B$. \n",
    "\n",
    "##### Lema 1: Si $b_1 + b_1 \\geq b_n$ entonces $B$ tiene la propiedad $T$.\n",
    "\n",
    "**Demostración:**\n",
    "Sean $b_i < b_j < b_k$ tres elementos distintos de $B$, tenemos que $b_i + b_j > b_1 + b_1 \\geq b_n \\geq b_k$ por lo tanto, cualquier terna de elementos que tomemos de $B$ cumple la desigualdad triangular.\n",
    "\n",
    "**Corolario:** Para cualquier entero $b_1 < x < b_n, B \\cup x$ tiene la propiedad $T$.  \n",
    "\n",
    "\n",
    "##### Lema 2: Si un conjunto $B$ tiene la propiedad $T$ y cumple que $b_n + 1 > 2b_1 \\geq b_n$ y que $B = \\{ x | b_1 \\leq x \\leq b_n, x \\text{ entero} \\}$ entonces cualquier elemento que se agregue a $B$ lo hará perder la propiedad $T$.\n",
    "\n",
    "**Demostración:**\n",
    "Observemos primero que dado que todos los enteros entre $b_1$ y $b_n$ ya están en $B$ sólo es posible agregarle elementos que sean menores a $b_1$ o mayores a $b_n$.\n",
    "\n",
    "Supongamos que se agrega a $B$ el elemento $y < b_1$, tenemos entonces que $y + 1\\leq b_1 \\implies y + 1 + b_1 \\leq b_1 + b_1 < b_n + 1 \\implies y + b_1 < b_n$ y por lo tanto se pierde la propiedad $T$.\n",
    "\n",
    "Supongamos ahora que se agrega a $B$ el elemento $y > b_n$, tenemos entonces que $y \\geq b_n + 1 \\geq b_1 + b_1 + 1 = b_1 + b_2 \\implies y \\geq b_1 + b_2$ y por lo tanto se pierde la propiedad $T$.\n",
    "\n",
    "$\\square$\n",
    "\n",
    "Observemos que si $x = b_1$ entonces el conjunto $B = \\{y | x \\leq y \\leq 2x\\}$ tiene la propiedad $T$ por el lema 1, además por el lema 2 es imposible agregarle elementos sin que pierda dicha propiedad por lo tanto si $x = b_1 \\implies |B| = 2x - x + 1 = x + 1$.\n",
    "\n",
    "Dado que la cardinalidad de $B$ es proporcional a $b_1$ el conjunto con mayor número de elementos sería aquel con mayor $b_1$ pero dadas las condiciones del problema de que el mayor elemento de $B$ es $2017$ el conjunto con $b_1 = 1008$ tiene $1009$ elementos al igual que el conjunto con $b_1 = 1009$.  Si se elige un conjunto con $b_1 > 1009$ la cardinalidad de dicho conjunto será menor a $2017 - 1009 = 1008$ y por lo tanto tendrá menos elementos.\n",
    "\n",
    "De modo que los conjuntos $B$ que tienen la propiedad $T$ con el máximo número de elementos posibles son:\n",
    "\n",
    "$\\begin{cases} b_1 = 1008, & B = \\{x | 1008 \\leq x \\leq 2016\\}, |B| = 1009 \\\\ b_1 = 1009, & B = \\{x | 1009 \\leq x \\leq 2017\\}, |B| = 1009 \\end{cases}$\n",
    "\n",
    "\n"
   ]
  }
 ],
 "metadata": {
  "kernelspec": {
   "display_name": "Python 3",
   "language": "python",
   "name": "python3"
  },
  "language_info": {
   "codemirror_mode": {
    "name": "ipython",
    "version": 3
   },
   "file_extension": ".py",
   "mimetype": "text/x-python",
   "name": "python",
   "nbconvert_exporter": "python",
   "pygments_lexer": "ipython3",
   "version": "3.6.4"
  }
 },
 "nbformat": 4,
 "nbformat_minor": 2
}
