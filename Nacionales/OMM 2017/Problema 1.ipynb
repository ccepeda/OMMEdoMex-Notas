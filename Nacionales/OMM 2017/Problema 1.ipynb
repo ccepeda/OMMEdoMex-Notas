{
 "cells": [
  {
   "cell_type": "markdown",
   "metadata": {},
   "source": [
    "### En un tablero de ajedrez de $2017 \\times 2017$, se han colocado en la primera columna $2017$ caballos de ajedrez, uno en cada casilla de la columna. Una tirada consiste en elegir dos caballos distintos y de manera simultanea moverlos como se mueven los caballos de ajedrez.\n",
    "\n",
    "### Encuentra todos los posibles valores enteros de $k$ con $1 \\leq k \\leq 2017$, para los cuales es posible llegar a través de varias tiradas, a que todos los caballos estén en la columna $k$, uno en cada casilla.\n",
    "\n",
    "### Nota. Un caballo se mueve de una casilla $X$ a otra $Y$ , solamente si $X$ y $Y$ son las esquinas opuestas de un rectángulo de $3 \\times 2$ o de $2 \\times 3$.\n",
    "\n",
    "\n",
    "#### SOLUCIÓN\n",
    "\n",
    "Observemos que por la defición del movimiento del caballo, cada que se mueve, el color de la casilla destino es distinto al color de la casilla origen, es decir, si estaba en una casilla negra termina en una blanca y viceversa.\n",
    "\n",
    "De acuerdo a la definición de *tirada* del problema existen 3 casos posibles:\n",
    "\n",
    "$\\begin{cases} \\text{Elegir 2 caballos en casillas negras}, & \\text{Tras la tirada, el número de caballos en casillas negras disminuye en 2.} \\\\ \\text{Elegir 2 caballos en casillas blancas}, & \\text{Tras la tirada, el número de caballos en casillas negras aumenta en 2.} \\\\ \\text{Elegir caballos en casillas de color distinto}, & \\text{Tras la tirada, el número de caballos en casillas negras no cambia.} \\end{cases}$\n",
    "\n",
    "Es claro, de las 3 opciones, que las reglas del juego sólo permiten configuraciones que mantengan la paridad de casillas negras. Dado que el tablero tiene $2017$ filas, las paridad de casillas negras en columnas consecutivas es distinta. Por lo tanto, si inicialmente los caballos inician en la columna 1, ningún número de *tiradas* hará posible que los caballos terminen todos en casillas distintas de columnas con número par.\n",
    "\n",
    "Para el caso de las columnas con número impar, observemos que estando en la columna $k$ es posible elegir los caballos en las filas $2i - 1, 2i$ con $1 \\leq i \\leq 1008$ y mediante un movimiento llevarlos a la columna $k+2$ o $k-2$ (siempre y cuando estas columnas existan en el tablero) a las filas $2i$ y $2i-1$ respectivamente. Para el caso del caballo en la fila $2017$ es posible moverlo a la fila $2017$, columna $k+2$ o $k-2$ (de nuevo asumiendo que la columna existe en el tablero), con las siguientes $2$ *tiradas*: Se elige el caballo en fila $2017$ y cualquier otro caballo y se mueve el caballo de la fila $2017$ a la fila $2015$ columna $k+1$ o $k-1$ dependiendo de hacia dónde se haya elegido hacer el desplazamiento y el otro caballo a cualquier posición permitida, posteriormente se vuelve a elegir los mismos 2 caballos y mueve el caballo que ahora está en la fila $2015$ a la fila $2017$ de la columna $k+2$ o $k-2$ según se haya elegido y el otro caballo se regresa a su posición original. \n",
    "\n",
    "La estrategia descrita arriba permite que si se tienen todos los caballos en diferentes casillas de la columna $k$ estos se desplacen hacia la columna $k+2$ o $k-2$ volviendo a quedar todos en diferentes casillas.\n",
    "\n",
    "Por lo tanto, las restricciones del juego permiten que con los caballos iniciando en la fila uno, estos puedan ser desplazados a cualquier columna con número impar pero a ninguna con número par."
   ]
  }
 ],
 "metadata": {
  "kernelspec": {
   "display_name": "Python 3",
   "language": "python",
   "name": "python3"
  },
  "language_info": {
   "codemirror_mode": {
    "name": "ipython",
    "version": 3
   },
   "file_extension": ".py",
   "mimetype": "text/x-python",
   "name": "python",
   "nbconvert_exporter": "python",
   "pygments_lexer": "ipython3",
   "version": "3.6.4"
  }
 },
 "nbformat": 4,
 "nbformat_minor": 2
}
