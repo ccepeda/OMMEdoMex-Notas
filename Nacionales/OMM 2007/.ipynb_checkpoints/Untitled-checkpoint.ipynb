{
 "cells": [
  {
   "cell_type": "markdown",
   "metadata": {},
   "source": [
    "###  Encuentra todos los enteros positivos $N$ con la siguiente propiedad: entre todos los divisores positivos de $N$ hay $10$ números consecutivos pero no $11$.\n",
    "\n",
    "#### SOLUCIÓN\n",
    "\n",
    "##### Lema: Si un número $N$ tiene como divisores a $x$ números consecutivos entonces $N$ es divisible por los números del $1$ al $x$.\n",
    "\n",
    "**Demostración:**\n",
    "Supongamos que $N$ es divisible por los números del $i$ al $(i + x - 1)$, por principio de las casillas entre esos números hay al menos uno que es congruente a 0 para todos los números del $1$ al $x$ por lo tanto los números del $1$ al $x$ también dividen a $N$.\n",
    "\n",
    "$\\square$\n",
    "\n",
    "Del lema 1 sabemos que si un número tiene $10$ divisores positivos será también divisible por los números del $1$ al $10$, también del lema 1 sabemos que para que no tenga $11$ divisores consecutivos es suficiente que no sea divisible por $11$. Por lo tanto, los números que tienen $10$ divisores consecutivos pero no $11$ son los número de la forma $MCM(1, 2, ..., 10)k = 2520k$ dónde $k$ es un entero no divisible entre $11$. \n"
   ]
  }
 ],
 "metadata": {
  "kernelspec": {
   "display_name": "Python 3",
   "language": "python",
   "name": "python3"
  },
  "language_info": {
   "codemirror_mode": {
    "name": "ipython",
    "version": 3
   },
   "file_extension": ".py",
   "mimetype": "text/x-python",
   "name": "python",
   "nbconvert_exporter": "python",
   "pygments_lexer": "ipython3",
   "version": "3.6.5"
  }
 },
 "nbformat": 4,
 "nbformat_minor": 2
}
