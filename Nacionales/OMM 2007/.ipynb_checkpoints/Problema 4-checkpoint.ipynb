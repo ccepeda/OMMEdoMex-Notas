{
 "cells": [
  {
   "cell_type": "markdown",
   "metadata": {},
   "source": [
    "### Para un entero positivo $n$ se definen $n_1$ como la suma de dígitos de $n$, $n_2$ como la suma de dígitos de $n_1$, y $n_3$ como la suma de dígitos de $n_2$. Por ejemplo, para $n = 199, n_1 = 199_1 = 19, n_2 = 199_2 = 10$ y $n_3 = 199_3 = 1$. Encuentra todas las parejas de enteros positivos $(m, n)$ tales que\n",
    "\n",
    "### <center> $m + n = 2007,$ <br> $m_3 + n_3 = 2007_3.$</center>\n",
    "\n",
    "#### SOLUCIÓN\n",
    "\n",
    "$m + n = 2007$ con $m, n$ enteros positivos implica que $m, n < 2007$.\n",
    "\n",
    "Por lo tanto:<br>\n",
    "$0 < m_1, n_1 \\leq 1999_1 = 28,$ <br>\n",
    "$0 < m_2, n_2 \\leq 28_1 = 19_1 = 10,$ <br>\n",
    "$0 < m_3, n_3 \\leq 9.$\n",
    "\n",
    "$2007 \\equiv 0 \\text{ }(mod\\text{ }9) \\implies m + n \\equiv 0 \\text{ }(mod\\text{ }9)$, además $m_3 + n_3 = 2007_3 = 9$, por último sabemos, por regla de divisibilidad del 9 que $m \\equiv m_1 \\equiv m_2 \\equiv m_3 \\text{ }(mod\\text{ }9).$  \n",
    "\n",
    "De lo anterior tenemos que los posibles valores para parejas de $(m_3, n_3)$ que sean congruentes a $0$ en módulo $9$ son: <br>\n",
    "$(1, 8), (2, 7), (3, 6), (4, 5), (5, 4), (6, 3), (7, 2), (8, 1), (9, 9)$. <br>\n",
    "\n",
    "De las anteriores sólo la pareja $(m_3 = 9, n_3 = 9)$ no cumple con los requerimientos. $m_3 = n_3 = 9 \\equiv 0 (mod\\text{ }9) \\implies 9|m, 9|n$. \n",
    "\n",
    "Por lo tanto las parejas de la forma $(m = 9k, n = 2007 - m)$ con $1 \\leq k \\leq 222$ no cumplen con los requerimientos y cualquier otra pareja tal que $(1 \\leq m < 2007, n = 2007 - m)$ cumple.\n",
    "\n"
   ]
  }
 ],
 "metadata": {
  "kernelspec": {
   "display_name": "Python 3",
   "language": "python",
   "name": "python3"
  },
  "language_info": {
   "codemirror_mode": {
    "name": "ipython",
    "version": 3
   },
   "file_extension": ".py",
   "mimetype": "text/x-python",
   "name": "python",
   "nbconvert_exporter": "python",
   "pygments_lexer": "ipython3",
   "version": "3.6.4"
  }
 },
 "nbformat": 4,
 "nbformat_minor": 2
}
