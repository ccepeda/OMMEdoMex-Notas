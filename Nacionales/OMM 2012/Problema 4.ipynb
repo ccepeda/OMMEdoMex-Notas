{
 "cells": [
  {
   "cell_type": "markdown",
   "metadata": {},
   "source": [
    "###  A cada entero positivo se le aplica el siguiente proceso: al número se le resta la suma de sus dígitos, y el resultado se divide entre 9. Por ejemplo, el proceso aplicado al $938$ es $102$, ya que $\\frac{(938 - (9 + 3 + 8))}{9} = 102$. Aplicando dos veces el proceso a 938 se llega a 11, aplicando tres veces se llega a 1 y aplicando cuatro veces se llega al 0.  \n",
    "### Cuando un entero positivo $n$ se le aplica el proceso una o varias veces, se termina en 0. Al número al que se llega antes de llegar al cero, lo llamamos la *casa* de $n$. ¿Cuántos números menores que 26 mil tienen la misma casa que el 2012?\n",
    "\n",
    "### NOTAS: Suma de dígitos lleva a pensar en congruencias módulo 9 o módulo 3.  Aunque en este problema en particular, como la suma de dígitos se resta del número, el resultado siempre es congruente con 0 en módulo de 9 y no es de mucha utilidad, salvo para darse cuenta que el proceso es aplicable a cualquier número.  Otro camino muy común para atacar problemas de este tipo es la descomposición en notación desarrollada.\n",
    "\n",
    "#### SOLUCIÓN\n",
    "\n",
    "Llamemos $reducción(n)$ a la función que aplica el proceso descrito en el problema y $casa(n)$ a la función que entrega como resultado la casa de $n$.\n",
    "\n",
    "+ **Lema 1: Para cualquier $n$ entero positivo el resultado de $reducción(n)$ es un entero positivo o cero.**\n",
    "\n",
    "**Demostración:**\n",
    "Por regla de divisibilidad del 9, $n$ y la suma de los dígitos de $n$ son congruentes en módulo 9. Además, la suma de los dígitos de $n$ siempre será menor o igual a $n$. Lo anterior implica que la resta de $n$ menos la suma de sus dígitos es congruente con 0 en módulo de 9 y por lo tanto la división del paso final del proceso dará como resultado un entero.\n",
    "\n",
    "+ **Lema 2: Para cualquier $0 < n < 10$, $casa(n) = n$**\n",
    "\n",
    "**Demostración:**\n",
    "Para $0 < n < 10$ la suma de los dígitos de $n$ es igual a $n$, por lo tanto $reducción(n) = 0$ y por su definición $casa(n) = n$.\n",
    "\n",
    "+ **Lema 3: Para todo $n \\ge 10$, $casa(n) = casa(reduccion(n))$**\n",
    "\n",
    "**Demostración:**\n",
    "Para $n \\ge 10$ la suma de los dígitos de $n$ es menor a $n$ por lo tanto $reducción(n) \\neq 0$. Además la $reducción(n)$ por su definición tiene un valor único y por el *lema 1* existe para todo $n$ entero positivo.  Por lo tanto hay un único camino de *reducciones* desde $n$ hasta la $casa(n)$ y todos los números en ese camino comparten la misma casa.\n",
    "\n",
    "Aplicando reducciones sucesivas a $2012$ obtenemos que $casa(2012) = 2$. Analizando los números con distinta cantidad de cifras observamos lo siguiente:\n",
    "\n",
    "+ Para $n$ de 1 cifra, por el *lema 2* sabemos que únicamente el $2$ comparte la *casa* con el $2012$.\n",
    "+ Para $n$ de 2 cifras tenemos que:\n",
    "     + Sea $n = ba$ un número de dos cifras. $reducción(ba) = \\frac{(10b + a) - (b + a)}{9} = \\frac{9b}{9} = b$. \n",
    "     + Por el *lema 3* $casa(ba) = casa(reducción(ba)) = casa(b)$.\n",
    "     + Por *lema 2* $casa(ba) = b$.\n",
    "     + Por lo tanto, los números de 2 cifras que comparten su *casa* con $2012$ son los que pertencen al conjunto $C_2 = \\{ x | 20 \\leq x \\leq 29 \\}$.\n",
    "+ Para $n$ de 3 cifras tenemos que:\n",
    "    + Sea $n = cba$ un número de tres cifras. $reducción(cba) = \\frac{(100c + 10b + a) - (c + b + a)}{9} = \\frac{99c + 9b}{9} = 11c + b$.\n",
    "    + Por el *lema 3* $casa(cba) = casa(reducción(cba)) = casa(11c + b)$. Por lo que $cba$ compartirá la casa con $2012$ si $(11c + b) \\in C_2$.\n",
    "    + $20 \\leq 11c + b \\leq 29 \\implies \\begin{cases} c = 1, & b \\geq 9 \\\\ c = 2, & b \\leq 7 \\end{cases}$\n",
    "    + Por lo tanto, los números de 3 cifras que comparten su *casa* con $2012$ son los que pertencencen al conjunto $C_3 = \\{ x | 190 \\leq x \\leq 279\\}$.\n",
    "+ Para $n$ de 4 cifras y con un razonamiento análogo a los anteriores tenemos que:\n",
    "    + $190 \\leq 111d + 11c + b \\leq 279 \\implies \\begin{cases} d=1, & cb \\geq 72 \\\\ d=2, & cb \\leq 52 \\end{cases}$\n",
    "    + Por lo tanto los números de 4 cifras que comparten su *casa* con el $2012$ son lo que pertenecen al conjunto $C_4 = \\{ x | 1720 \\leq x \\leq 2529\\}$.\n",
    "+ Para $n$ de 5 cifras y con un raznamiento análogo a los anteriores tenemos que:\n",
    "    + $1720 \\leq 1111e + 111d+ 11c + b \\leq 2529 \\implies \\begin{cases} e=1, & dcb \\geq 550 \\\\ e=2, & dcb \\leq 278 \\end{cases}$\n",
    "    + Por lo tanto los números de 5 cifras que comparten su *cada* con el $2012$ son los que pertenecen al conjunto $C_5 = \\{ x | 15500 \\leq x \\leq 22789\\}$.\n",
    "    \n",
    "Sumando las cardinalidades de los conjuntos $C_2, C_3, C_4, C_5$ y el $2$ que es el único número de una cifra con *casa* 2 obtenemos que la cantidad de números menores a 26 mil que comparten *casa* con el $2012$ son:\n",
    "\n",
    "#### <center> $1 + |C_2| + |C_3| + |C_4| + |C_5| = 1 + 10 + 90 + 810 + 7290 = 8201$ </center>\n",
    "    \n",
    "     \n",
    "\n",
    "\n"
   ]
  }
 ],
 "metadata": {
  "kernelspec": {
   "display_name": "Python 3",
   "language": "python",
   "name": "python3"
  },
  "language_info": {
   "codemirror_mode": {
    "name": "ipython",
    "version": 3
   },
   "file_extension": ".py",
   "mimetype": "text/x-python",
   "name": "python",
   "nbconvert_exporter": "python",
   "pygments_lexer": "ipython3",
   "version": "3.6.4"
  }
 },
 "nbformat": 4,
 "nbformat_minor": 2
}
